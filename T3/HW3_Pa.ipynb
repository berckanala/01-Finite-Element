{
 "cells": [
  {
   "cell_type": "code",
   "execution_count": 40,
   "id": "874edd31",
   "metadata": {},
   "outputs": [],
   "source": [
    "import numpy as np\n",
    "import matplotlib.pyplot as plt\n",
    "import gmsh\n",
    "import os\n",
    "import meshio\n",
    "import math\n",
    "import sys\n",
    "from matplotlib.patches import Polygon"
   ]
  },
  {
   "cell_type": "markdown",
   "id": "655d35e0",
   "metadata": {},
   "source": [
    "Primero se lee el archivo en Quad 4"
   ]
  },
  {
   "cell_type": "code",
   "execution_count": 41,
   "id": "95f92dd1",
   "metadata": {},
   "outputs": [],
   "source": [
    "\n",
    "geo_file = \"T3.geo\"\n",
    "lc = 50\n",
    "\n",
    "gmsh.initialize()\n",
    "gmsh.open(geo_file)\n",
    "\n",
    "gmsh.option.setNumber(\"Mesh.RecombineAll\", 1)\n",
    "gmsh.option.setNumber(\"Mesh.Algorithm\", 8)\n",
    "gmsh.option.setNumber(\"Mesh.CharacteristicLengthMin\", lc)\n",
    "gmsh.option.setNumber(\"Mesh.CharacteristicLengthMax\", lc)\n",
    "\n",
    "gmsh.model.geo.synchronize()\n",
    "gmsh.model.mesh.setOrder(1)  # <-- Quad4\n",
    "gmsh.model.mesh.generate(2)\n",
    "gmsh.write(\"malla_quad4L1.msh\")\n",
    "gmsh.fltk.run()\n",
    "gmsh.finalize()\n"
   ]
  },
  {
   "cell_type": "markdown",
   "id": "2f46b965",
   "metadata": {},
   "source": [
    "Luego, se lee el archivo en Quad 9"
   ]
  },
  {
   "cell_type": "code",
   "execution_count": 42,
   "id": "570cdf41",
   "metadata": {},
   "outputs": [],
   "source": [
    "\n",
    "\n",
    "geo_file = \"T3.geo\"\n",
    "lc = 50\n",
    "\n",
    "gmsh.initialize()\n",
    "gmsh.open(geo_file)\n",
    "\n",
    "gmsh.option.setNumber(\"Mesh.RecombineAll\", 1)\n",
    "gmsh.option.setNumber(\"Mesh.Algorithm\", 8)\n",
    "gmsh.option.setNumber(\"Mesh.CharacteristicLengthMin\", lc)\n",
    "gmsh.option.setNumber(\"Mesh.CharacteristicLengthMax\", lc)\n",
    "\n",
    "gmsh.model.geo.synchronize()\n",
    "gmsh.model.mesh.setOrder(2)  # <-- Quad9\n",
    "gmsh.model.mesh.generate(2)\n",
    "gmsh.write(\"malla_quad9L1.msh\")\n",
    "gmsh.fltk.run()\n",
    "gmsh.finalize()\n"
   ]
  }
 ],
 "metadata": {
  "kernelspec": {
   "display_name": "Python 3",
   "language": "python",
   "name": "python3"
  },
  "language_info": {
   "codemirror_mode": {
    "name": "ipython",
    "version": 3
   },
   "file_extension": ".py",
   "mimetype": "text/x-python",
   "name": "python",
   "nbconvert_exporter": "python",
   "pygments_lexer": "ipython3",
   "version": "3.12.10"
  }
 },
 "nbformat": 4,
 "nbformat_minor": 5
}
