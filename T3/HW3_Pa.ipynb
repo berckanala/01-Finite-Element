{
 "cells": [
  {
   "cell_type": "code",
   "execution_count": 1,
   "id": "874edd31",
   "metadata": {},
   "outputs": [],
   "source": [
    "import numpy as np\n",
    "import matplotlib.pyplot as plt\n",
    "import gmsh\n",
    "import os\n",
    "import meshio\n",
    "import math\n",
    "import sys\n",
    "from matplotlib.patches import Polygon"
   ]
  },
  {
   "cell_type": "markdown",
   "id": "655d35e0",
   "metadata": {},
   "source": [
    "Primero se lee el archivo en Quad 4"
   ]
  },
  {
   "cell_type": "code",
   "execution_count": 2,
   "id": "95f92dd1",
   "metadata": {},
   "outputs": [],
   "source": [
    "\n",
    "geo_file = \"T3.geo\"\n",
    "lc = 50\n",
    "\n",
    "gmsh.initialize()\n",
    "gmsh.open(geo_file)\n",
    "\n",
    "gmsh.option.setNumber(\"Mesh.RecombineAll\", 1)\n",
    "gmsh.option.setNumber(\"Mesh.Algorithm\", 8)\n",
    "gmsh.option.setNumber(\"Mesh.CharacteristicLengthMin\", lc)\n",
    "gmsh.option.setNumber(\"Mesh.CharacteristicLengthMax\", lc)\n",
    "\n",
    "gmsh.model.geo.synchronize()\n",
    "gmsh.model.mesh.setOrder(1)  # <-- Quad4\n",
    "gmsh.model.mesh.generate(2)\n",
    "gmsh.write(\"mallaprueba.msh\")\n",
    "gmsh.fltk.run()\n",
    "gmsh.finalize()\n"
   ]
  },
  {
   "cell_type": "markdown",
   "id": "2f46b965",
   "metadata": {},
   "source": [
    "Luego, se lee el archivo en Quad 9"
   ]
  },
  {
   "cell_type": "code",
   "execution_count": null,
   "id": "570cdf41",
   "metadata": {},
   "outputs": [
    {
     "ename": "OSError",
     "evalue": "exception: access violation reading 0x0000000000000000",
     "output_type": "error",
     "traceback": [
      "\u001b[31m---------------------------------------------------------------------------\u001b[39m",
      "\u001b[31mOSError\u001b[39m                                   Traceback (most recent call last)",
      "\u001b[32m~\\AppData\\Local\\Temp\\ipykernel_5820\\988223022.py\u001b[39m in \u001b[36m?\u001b[39m\u001b[34m()\u001b[39m\n\u001b[32m     12\u001b[39m gmsh.model.geo.synchronize()\n\u001b[32m     13\u001b[39m gmsh.model.mesh.setOrder(\u001b[32m2\u001b[39m)  \u001b[38;5;66;03m# <-- Quad9\u001b[39;00m\n\u001b[32m     14\u001b[39m gmsh.model.mesh.generate(\u001b[32m2\u001b[39m)\n\u001b[32m     15\u001b[39m gmsh.write(\u001b[33m\"malla_quad9L4.msh\"\u001b[39m)\n\u001b[32m---> \u001b[39m\u001b[32m16\u001b[39m gmsh.fltk.run()\n\u001b[32m     17\u001b[39m gmsh.finalize()\n",
      "\u001b[32m~\\AppData\\Local\\Packages\\PythonSoftwareFoundation.Python.3.12_qbz5n2kfra8p0\\LocalCache\\local-packages\\Python312\\site-packages\\gmsh.py\u001b[39m in \u001b[36m?\u001b[39m\u001b[34m()\u001b[39m\n\u001b[32m  10246\u001b[39m         `wait()'. First automatically create the user interface if it has not yet\n\u001b[32m  10247\u001b[39m         been initialized. Can only be called \u001b[38;5;28;01min\u001b[39;00m the main thread.\n\u001b[32m  10248\u001b[39m         \"\"\"\n\u001b[32m  10249\u001b[39m         ierr = c_int()\n\u001b[32m> \u001b[39m\u001b[32m10250\u001b[39m         lib.gmshFltkRun(\n\u001b[32m  10251\u001b[39m             byref(ierr))\n\u001b[32m  10252\u001b[39m         \u001b[38;5;28;01mif\u001b[39;00m ierr.value != \u001b[32m0\u001b[39m:\n\u001b[32m  10253\u001b[39m             \u001b[38;5;28;01mraise\u001b[39;00m Exception(logger.getLastError())\n",
      "\u001b[31mOSError\u001b[39m: exception: access violation reading 0x0000000000000000"
     ]
    },
    {
     "ename": "",
     "evalue": "",
     "output_type": "error",
     "traceback": [
      "\u001b[1;31mThe Kernel crashed while executing code in the current cell or a previous cell. \n",
      "\u001b[1;31mPlease review the code in the cell(s) to identify a possible cause of the failure. \n",
      "\u001b[1;31mClick <a href='https://aka.ms/vscodeJupyterKernelCrash'>here</a> for more info. \n",
      "\u001b[1;31mView Jupyter <a href='command:jupyter.viewOutput'>log</a> for further details."
     ]
    }
   ],
   "source": [
    "\n",
    "\n",
    "geo_file = \"T3.geo\"\n",
    "lc = 50\n",
    "\n",
    "gmsh.initialize()\n",
    "gmsh.open(geo_file)\n",
    "\n",
    "gmsh.option.setNumber(\"Mesh.RecombineAll\", 1)\n",
    "gmsh.option.setNumber(\"Mesh.Algorithm\", 8)\n",
    "gmsh.option.setNumber(\"Mesh.CharacteristicLengthMin\", lc)\n",
    "gmsh.option.setNumber(\"Mesh.CharacteristicLengthMax\", lc)\n",
    "\n",
    "gmsh.model.geo.synchronize()\n",
    "gmsh.model.mesh.setOrder(2)  # <-- Quad9\n",
    "gmsh.model.mesh.generate(2)\n",
    "gmsh.write(\"malla_quad9L4.msh\")\n",
    "gmsh.fltk.run()\n",
    "gmsh.finalize()\n"
   ]
  }
 ],
 "metadata": {
  "kernelspec": {
   "display_name": "Python 3",
   "language": "python",
   "name": "python3"
  },
  "language_info": {
   "codemirror_mode": {
    "name": "ipython",
    "version": 3
   },
   "file_extension": ".py",
   "mimetype": "text/x-python",
   "name": "python",
   "nbconvert_exporter": "python",
   "pygments_lexer": "ipython3",
   "version": "3.12.10"
  }
 },
 "nbformat": 4,
 "nbformat_minor": 5
}
