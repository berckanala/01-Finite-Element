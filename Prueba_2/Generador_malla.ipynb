{
 "cells": [
  {
   "cell_type": "code",
   "execution_count": 1,
   "id": "874edd31",
   "metadata": {},
   "outputs": [],
   "source": [
    "import numpy as np\n",
    "import matplotlib.pyplot as plt\n",
    "import gmsh\n",
    "import os\n",
    "import meshio\n",
    "import math\n",
    "import sys\n",
    "from matplotlib.patches import Polygon"
   ]
  },
  {
   "cell_type": "code",
   "execution_count": 2,
   "id": "9f7bb931",
   "metadata": {},
   "outputs": [],
   "source": [
    "geo_file = \"T4.geo\""
   ]
  },
  {
   "cell_type": "code",
   "execution_count": 3,
   "id": "1aecb6bd",
   "metadata": {},
   "outputs": [],
   "source": [
    "output_file1 = \"malla_CST.msh\"\n",
    "output_file2 = \"malla_LST.msh\""
   ]
  },
  {
   "cell_type": "markdown",
   "id": "655d35e0",
   "metadata": {},
   "source": [
    "Primero se lee el archivo en Quad 4"
   ]
  },
  {
   "cell_type": "code",
   "execution_count": 4,
   "id": "95f92dd1",
   "metadata": {},
   "outputs": [],
   "source": [
    "\n",
    "lc = 50\n",
    "\n",
    "gmsh.initialize()\n",
    "gmsh.open(geo_file)\n",
    "\n",
    "gmsh.option.setNumber(\"Mesh.RecombineAll\", 1) #Si quieres CST estos se elimminan \n",
    "gmsh.option.setNumber(\"Mesh.Algorithm\", 8)    #Si quieres CST estos se elimminan\n",
    "gmsh.option.setNumber(\"Mesh.CharacteristicLengthMin\", lc)\n",
    "gmsh.option.setNumber(\"Mesh.CharacteristicLengthMax\", lc)\n",
    "\n",
    "gmsh.model.geo.synchronize()\n",
    "gmsh.model.mesh.setOrder(1)  \n",
    "gmsh.model.mesh.generate(2)\n",
    "gmsh.write(output_file1)\n",
    "gmsh.fltk.run()\n",
    "gmsh.finalize()\n"
   ]
  },
  {
   "cell_type": "markdown",
   "id": "2f46b965",
   "metadata": {},
   "source": [
    "Luego, se lee el archivo en Quad 9"
   ]
  },
  {
   "cell_type": "code",
   "execution_count": 7,
   "id": "c49c6ecf",
   "metadata": {},
   "outputs": [],
   "source": [
    "\n",
    "lc = 1  # Tamaño característico\n",
    "\n",
    "gmsh.initialize()\n",
    "\n",
    "# 🔧 Forzar elementos de orden 2 de forma confiable\n",
    "gmsh.option.setNumber(\"Mesh.ElementOrder\", 2)\n",
    "\n",
    "gmsh.open(geo_file)\n",
    "\n",
    "#gmsh.option.setNumber(\"Mesh.RecombineAll\", 1) #Si quieres CST estos se elimminan \n",
    "#gmsh.option.setNumber(\"Mesh.Algorithm\", 8)    #Si quieres CST estos se elimminan\n",
    "gmsh.option.setNumber(\"Mesh.CharacteristicLengthMin\", lc)\n",
    "gmsh.option.setNumber(\"Mesh.CharacteristicLengthMax\", lc)\n",
    "\n",
    "gmsh.model.geo.synchronize()\n",
    "\n",
    "gmsh.option.setNumber(\"Mesh.MshFileVersion\", 2.2)\n",
    "gmsh.model.mesh.generate(2)\n",
    "\n",
    "gmsh.write(output_file2)\n",
    "gmsh.fltk.run()\n",
    "gmsh.finalize()"
   ]
  }
 ],
 "metadata": {
  "kernelspec": {
   "display_name": "Python 3",
   "language": "python",
   "name": "python3"
  },
  "language_info": {
   "codemirror_mode": {
    "name": "ipython",
    "version": 3
   },
   "file_extension": ".py",
   "mimetype": "text/x-python",
   "name": "python",
   "nbconvert_exporter": "python",
   "pygments_lexer": "ipython3",
   "version": "3.12.10"
  }
 },
 "nbformat": 4,
 "nbformat_minor": 5
}
