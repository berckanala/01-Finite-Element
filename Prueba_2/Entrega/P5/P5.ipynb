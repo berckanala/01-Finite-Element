{
 "cells": [
  {
   "cell_type": "markdown",
   "id": "d3e599be",
   "metadata": {},
   "source": [
    "ESTO ES PARA EL CST"
   ]
  },
  {
   "cell_type": "code",
   "execution_count": 5,
   "id": "6f04a8c8",
   "metadata": {},
   "outputs": [],
   "source": [
    "import numpy as np\n",
    "from CST import Element\n",
    "from Node import Node\n",
    "from solve import Solve\n",
    "from functions import matrix_extract,  get_nodes_from_physical_id, get_line_load_global_vector, matrix_replace\n"
   ]
  },
  {
   "cell_type": "code",
   "execution_count": 6,
   "id": "645d71dd",
   "metadata": {},
   "outputs": [],
   "source": [
    "n_nodes = 4  # Número de nodos por elemento Quad7\n",
    "nodes = []\n",
    "coords = [\n",
    "        # Esquinas (vértices)\n",
    "        (1, 0.0, 0.0),   # A\n",
    "        (2, 1.0, 0.0),   # B\n",
    "        (3, 0.5, 0.5),   # C\n",
    "        (4, 0.0, 1),   # D\n",
    "        (5, 1.0, 1.0),   # E\n",
    "       \n",
    "    ]\n",
    "\n",
    "    # Crear nodos\n",
    "added_ids = set()\n",
    "for nid, x, y in coords:\n",
    "        if nid not in added_ids:\n",
    "            node = Node(nid, x, y)\n",
    "            if x in [0.0, 1.0] or y in [0.0, 1.0]:\n",
    "                node.boundary_label.append(\"Dirichlet\")\n",
    "            nodes.append(node)\n",
    "            added_ids.add(nid)\n",
    "\n",
    "    # Crear elementos Quad7: [N1, N2, N3, N4]\n",
    "elements = []\n",
    "\n",
    "    # Elemento 1: inferior izquierdo\n",
    "elements.append(Element(1, [1, 2, 3, 4], n_nodes))\n",
    "elements.append(Element(2, [2, 5, 4, 3], n_nodes))"
   ]
  },
  {
   "cell_type": "code",
   "execution_count": 7,
   "id": "cb7d8e6f",
   "metadata": {},
   "outputs": [
    {
     "name": "stdout",
     "output_type": "stream",
     "text": [
      "Solución analítica: 5.600000000000001\n"
     ]
    }
   ],
   "source": [
    "\n",
    "#Ahora debo calcular la solucion u\n",
    "alpha = 3\n",
    "\n",
    "for node in nodes:\n",
    "    node.solve_u(alpha)\n",
    "    \n",
    "Estructure = Solve(nodes, elements, alpha)\n",
    "Estructure.solve_matrix()\n",
    "solucion_analitica = Estructure.semi_norm_H1_0(alpha)\n",
    "\n",
    "print(f\"Solución analítica: {solucion_analitica}\")"
   ]
  },
  {
   "cell_type": "code",
   "execution_count": 8,
   "id": "ffaa8c59",
   "metadata": {},
   "outputs": [
    {
     "name": "stdout",
     "output_type": "stream",
     "text": [
      "Solución FEM: 4.462743252134363\n",
      "Error: 1.1372567478656386\n"
     ]
    }
   ],
   "source": [
    "Estructure = Solve(nodes, elements, alpha)\n",
    "Estructure.solve_matrix()\n",
    "solucion_fem = Estructure.femm_solution()\n",
    "print(f\"Solución FEM: {solucion_fem}\")\n",
    "\n",
    "error = np.abs(solucion_analitica - solucion_fem)\n",
    "print(f\"Error: {error}\")"
   ]
  },
  {
   "cell_type": "markdown",
   "id": "0243fc9e",
   "metadata": {},
   "source": [
    "As we can see, the solution converges"
   ]
  }
 ],
 "metadata": {
  "kernelspec": {
   "display_name": "Python 3",
   "language": "python",
   "name": "python3"
  },
  "language_info": {
   "codemirror_mode": {
    "name": "ipython",
    "version": 3
   },
   "file_extension": ".py",
   "mimetype": "text/x-python",
   "name": "python",
   "nbconvert_exporter": "python",
   "pygments_lexer": "ipython3",
   "version": "3.12.10"
  }
 },
 "nbformat": 4,
 "nbformat_minor": 5
}
