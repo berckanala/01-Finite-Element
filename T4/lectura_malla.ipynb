{
 "cells": [
  {
   "cell_type": "code",
   "execution_count": 1,
   "id": "f881b4f5",
   "metadata": {},
   "outputs": [],
   "source": [
    "import numpy as np\n",
    "import matplotlib.pyplot as plt\n",
    "import gmsh\n",
    "import os\n",
    "import meshio\n",
    "import math\n",
    "import sys\n",
    "from matplotlib.patches import Polygon"
   ]
  },
  {
   "cell_type": "code",
   "execution_count": 3,
   "id": "38f6b173",
   "metadata": {},
   "outputs": [],
   "source": [
    "\n",
    "geo_file = \"T4.geo\"\n",
    "gmsh.initialize()\n",
    "gmsh.open(geo_file)\n",
    "\n",
    "gmsh.option.setNumber(\"Mesh.CharacteristicLengthMin\", lc)\n",
    "gmsh.option.setNumber(\"Mesh.CharacteristicLengthMax\", lc)\n",
    "\n",
    "gmsh.model.geo.synchronize()\n",
    "gmsh.model.mesh.setOrder(1)  # <-- Quad4\n",
    "gmsh.model.mesh.generate(2)\n",
    "gmsh.write(\"malla_CST.msh\")\n",
    "gmsh.fltk.run()\n",
    "gmsh.finalize()\n"
   ]
  },
  {
   "cell_type": "code",
   "execution_count": 3,
   "id": "94d3c495",
   "metadata": {},
   "outputs": [],
   "source": [
    "import gmsh\n",
    "\n",
    "geo_file = \"T4.geo\"\n",
    "output_file = \"malla_LST.msh\"\n",
    "lc = 1  # Tamaño característico\n",
    "\n",
    "gmsh.initialize()\n",
    "\n",
    "# 🔧 Forzar elementos de orden 2 de forma confiable\n",
    "gmsh.option.setNumber(\"Mesh.ElementOrder\", 2)\n",
    "\n",
    "gmsh.open(geo_file)\n",
    "gmsh.option.setNumber(\"Mesh.CharacteristicLengthMin\", lc)\n",
    "gmsh.option.setNumber(\"Mesh.CharacteristicLengthMax\", lc)\n",
    "\n",
    "gmsh.model.geo.synchronize()\n",
    "\n",
    "gmsh.option.setNumber(\"Mesh.MshFileVersion\", 2.2)\n",
    "gmsh.model.mesh.generate(2)\n",
    "\n",
    "gmsh.write(output_file)\n",
    "gmsh.finalize()\n"
   ]
  }
 ],
 "metadata": {
  "kernelspec": {
   "display_name": "Python 3",
   "language": "python",
   "name": "python3"
  },
  "language_info": {
   "codemirror_mode": {
    "name": "ipython",
    "version": 3
   },
   "file_extension": ".py",
   "mimetype": "text/x-python",
   "name": "python",
   "nbconvert_exporter": "python",
   "pygments_lexer": "ipython3",
   "version": "3.12.10"
  }
 },
 "nbformat": 4,
 "nbformat_minor": 5
}
