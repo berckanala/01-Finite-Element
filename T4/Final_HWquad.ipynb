{
 "cells": [
  {
   "cell_type": "code",
   "execution_count": 8,
   "id": "6f04a8c8",
   "metadata": {},
   "outputs": [],
   "source": [
    "import numpy as np\n",
    "import matplotlib.pyplot as plt\n",
    "import gmsh\n",
    "import os\n",
    "import meshio\n",
    "import math\n",
    "import sys\n",
    "from matplotlib.patches import Polygon\n",
    "from matplotlib.tri import Triangulation\n",
    "import matplotlib.cm as cm  # Importar módulo de colormap\n",
    "from CST import CST\n",
    "from Node import Node\n",
    "from units import mm, cm, m, kgf, N, tf, kN, MPa, GPa\n",
    "from fem import Material, Membrane\n",
    "from functions import matrix_extract,  get_nodes_from_physical_id, get_line_load_global_vector, matrix_replace"
   ]
  },
  {
   "cell_type": "code",
   "execution_count": 9,
   "id": "383be179",
   "metadata": {},
   "outputs": [],
   "source": [
    "output_file = \"mallas/malla_CST.msh\"   #cambiar el numero de la malla --> malla_quad4G1.msh, malla_quad4G2.msh, malla_quad4G3.msh, malla_quad4G4.msh, malla_quad4L1.msh,....\n",
    "geo_file= \"T4.geo\"\n",
    "titulo = \"Quad 4 Local refinement case 4\"#\"Quad 9 Global refinement case 1\" #Cambiar el numero y G-->L"
   ]
  },
  {
   "cell_type": "code",
   "execution_count": 10,
   "id": "3f448ee5",
   "metadata": {},
   "outputs": [],
   "source": [
    "section = {\"Omega\"}"
   ]
  },
  {
   "cell_type": "code",
   "execution_count": 11,
   "id": "a403851a",
   "metadata": {},
   "outputs": [],
   "source": [
    "def load_mesh_objects(geo_file=geo_file, msh_file=output_file):\n",
    "\n",
    "    # Leer malla\n",
    "    mesh = meshio.read(msh_file)\n",
    "\n",
    "    # Crear nodos\n",
    "    nodes = [Node(i+1, x, y) for i, (x, y, _) in enumerate(mesh.points)]\n",
    "\n",
    "    # Crear elementos CST\n",
    "    cst_elements = []\n",
    "    for cell_block in mesh.cells:\n",
    "        if cell_block.type == \"triangle\":\n",
    "            for i, node_ids in enumerate(cell_block.data):\n",
    "                node_ids = [int(id) + 1 for id in node_ids]  # Convertir a índices base 1\n",
    "                \n",
    "                cst_elements.append(CST(i+1 , list(node_ids)))\n",
    "            break\n",
    "\n",
    "    # Detectar nodos en líneas físicas (\"Diritchlet 1\" a \"Diritchlet 4\")\n",
    "    boundary_nodes = {1: set(), 2: set(), 3: set(), 4: set()}\n",
    "\n",
    "    for i, cell_block in enumerate(mesh.cells):\n",
    "        if cell_block.type == \"line\":\n",
    "            physical_ids = mesh.cell_data_dict['gmsh:physical']['line']\n",
    "            for line, phys_id in zip(cell_block.data, physical_ids):\n",
    "                if phys_id in boundary_nodes:\n",
    "                    for node_id in line:\n",
    "                        boundary_nodes[phys_id].add(int(node_id))\n",
    "\n",
    "    # Añadir etiquetas de borde a los nodos\n",
    "    for node in nodes:\n",
    "        node.boundary_label = []\n",
    "        for label_id, node_set in boundary_nodes.items():\n",
    "            if node.id in node_set:\n",
    "                node.boundary_label.append(f\"Diritchlet Boundary\")\n",
    "\n",
    "    return nodes, cst_elements\n",
    "\n",
    "\n",
    "def plot_mesh(nodes, elements, show_node_ids=False, show_elem_ids=False):\n",
    "    x = np.array([node.x for node in nodes])\n",
    "    y = np.array([node.y for node in nodes])\n",
    "\n",
    "    # Convertir elementos CST a array de conectividades\n",
    "    triangles = np.array([[nid - 1 for nid in elem.node_ids] for elem in elements])\n",
    "\n",
    "\n",
    "    fig, ax = plt.subplots(figsize=(8, 8))\n",
    "    ax.set_aspect('equal')\n",
    "\n",
    "    triang = Triangulation(x, y, triangles)\n",
    "    ax.triplot(triang, color='gray', linewidth=0.8)\n",
    "\n",
    "    if show_node_ids:\n",
    "        for node in nodes:\n",
    "            ax.text(node.x, node.y, str(node.id), color='blue', fontsize=8, ha='center', va='center')\n",
    "\n",
    "    if show_elem_ids:\n",
    "        for elem in elements:\n",
    "            coords = np.array([[nodes[j - 1].x, nodes[j - 1].y] for j in elem.node_ids])\n",
    "\n",
    "            centroid = coords.mean(axis=0)\n",
    "            ax.text(*centroid, str(elem.id), color='red', fontsize=8, ha='center')\n",
    "\n",
    "    ax.set_title(\"Malla de elementos triangulares (CST)\")\n",
    "    ax.set_xlabel(\"X\")\n",
    "    ax.set_ylabel(\"Y\")\n",
    "    plt.tight_layout()\n",
    "    plt.show()"
   ]
  },
  {
   "cell_type": "code",
   "execution_count": 12,
   "id": "f0e7a017",
   "metadata": {},
   "outputs": [
    {
     "name": "stdout",
     "output_type": "stream",
     "text": [
      "\n"
     ]
    },
    {
     "ename": "AttributeError",
     "evalue": "'int' object has no attribute 'coordenadas'",
     "output_type": "error",
     "traceback": [
      "\u001b[31m---------------------------------------------------------------------------\u001b[39m",
      "\u001b[31mAttributeError\u001b[39m                            Traceback (most recent call last)",
      "\u001b[36mCell\u001b[39m\u001b[36m \u001b[39m\u001b[32mIn[12]\u001b[39m\u001b[32m, line 1\u001b[39m\n\u001b[32m----> \u001b[39m\u001b[32m1\u001b[39m nodes, elements = \u001b[43mload_mesh_objects\u001b[49m\u001b[43m(\u001b[49m\u001b[43mgeo_file\u001b[49m\u001b[43m=\u001b[49m\u001b[43mgeo_file\u001b[49m\u001b[43m,\u001b[49m\u001b[43m \u001b[49m\u001b[43mmsh_file\u001b[49m\u001b[43m=\u001b[49m\u001b[43moutput_file\u001b[49m\u001b[43m)\u001b[49m\n\u001b[32m      2\u001b[39m plot_mesh(nodes, elements, show_node_ids=\u001b[38;5;28;01mTrue\u001b[39;00m, show_elem_ids=\u001b[38;5;28;01mTrue\u001b[39;00m)\n",
      "\u001b[36mCell\u001b[39m\u001b[36m \u001b[39m\u001b[32mIn[11]\u001b[39m\u001b[32m, line 16\u001b[39m, in \u001b[36mload_mesh_objects\u001b[39m\u001b[34m(geo_file, msh_file)\u001b[39m\n\u001b[32m     13\u001b[39m         \u001b[38;5;28;01mfor\u001b[39;00m i, node_ids \u001b[38;5;129;01min\u001b[39;00m \u001b[38;5;28menumerate\u001b[39m(cell_block.data):\n\u001b[32m     14\u001b[39m             node_ids = [\u001b[38;5;28mint\u001b[39m(\u001b[38;5;28mid\u001b[39m) + \u001b[32m1\u001b[39m \u001b[38;5;28;01mfor\u001b[39;00m \u001b[38;5;28mid\u001b[39m \u001b[38;5;129;01min\u001b[39;00m node_ids]  \u001b[38;5;66;03m# Convertir a índices base 1\u001b[39;00m\n\u001b[32m---> \u001b[39m\u001b[32m16\u001b[39m             cst_elements.append(\u001b[43mCST\u001b[49m\u001b[43m(\u001b[49m\u001b[43mi\u001b[49m\u001b[43m+\u001b[49m\u001b[32;43m1\u001b[39;49m\u001b[43m \u001b[49m\u001b[43m,\u001b[49m\u001b[43m \u001b[49m\u001b[38;5;28;43mlist\u001b[39;49m\u001b[43m(\u001b[49m\u001b[43mnode_ids\u001b[49m\u001b[43m)\u001b[49m\u001b[43m)\u001b[49m)\n\u001b[32m     17\u001b[39m         \u001b[38;5;28;01mbreak\u001b[39;00m\n\u001b[32m     19\u001b[39m \u001b[38;5;66;03m# Detectar nodos en líneas físicas (\"Diritchlet 1\" a \"Diritchlet 4\")\u001b[39;00m\n",
      "\u001b[36mFile \u001b[39m\u001b[32mc:\\Users\\HP\\Desktop\\Uandes\\9no_semestre\\01-Finite-Element\\T4\\CST.py:30\u001b[39m, in \u001b[36mCST.__init__\u001b[39m\u001b[34m(self, element_tag, node_list, print_summary)\u001b[39m\n\u001b[32m     27\u001b[39m \u001b[38;5;28mself\u001b[39m.nodes = node_list\n\u001b[32m     28\u001b[39m \u001b[38;5;28mself\u001b[39m.type = \u001b[38;5;28mtype\u001b[39m\n\u001b[32m---> \u001b[39m\u001b[32m30\u001b[39m \u001b[38;5;28;43mself\u001b[39;49m\u001b[43m.\u001b[49m\u001b[43mcompute_area\u001b[49m\u001b[43m(\u001b[49m\u001b[43m)\u001b[49m\n\u001b[32m     31\u001b[39m \u001b[38;5;28mself\u001b[39m.idx=\u001b[38;5;28mself\u001b[39m.calculate_indices()\n\u001b[32m     32\u001b[39m \u001b[38;5;28mself\u001b[39m.kg=\u001b[38;5;28mself\u001b[39m.get_stiffness_matrix()\n",
      "\u001b[36mFile \u001b[39m\u001b[32mc:\\Users\\HP\\Desktop\\Uandes\\9no_semestre\\01-Finite-Element\\T4\\CST.py:77\u001b[39m, in \u001b[36mCST.compute_area\u001b[39m\u001b[34m(self)\u001b[39m\n\u001b[32m     70\u001b[39m \u001b[38;5;28;01mdef\u001b[39;00m\u001b[38;5;250m \u001b[39m\u001b[34mcompute_area\u001b[39m(\u001b[38;5;28mself\u001b[39m):\n\u001b[32m     71\u001b[39m \u001b[38;5;250m    \u001b[39m\u001b[33;03m\"\"\"\u001b[39;00m\n\u001b[32m     72\u001b[39m \u001b[33;03m    Computes and stores the area of the CST element using determinant-based formula.\u001b[39;00m\n\u001b[32m     73\u001b[39m \n\u001b[32m     74\u001b[39m \u001b[33;03m    Sets:\u001b[39;00m\n\u001b[32m     75\u001b[39m \u001b[33;03m        self.area (float): Area of the triangle\u001b[39;00m\n\u001b[32m     76\u001b[39m \u001b[33;03m    \"\"\"\u001b[39;00m\n\u001b[32m---> \u001b[39m\u001b[32m77\u001b[39m     x1, y1 = \u001b[38;5;28;43mself\u001b[39;49m\u001b[43m.\u001b[49m\u001b[43mnodes\u001b[49m\u001b[43m[\u001b[49m\u001b[32;43m0\u001b[39;49m\u001b[43m]\u001b[49m\u001b[43m.\u001b[49m\u001b[43mcoordenadas\u001b[49m\n\u001b[32m     78\u001b[39m     x2, y2 = \u001b[38;5;28mself\u001b[39m.nodes[\u001b[32m1\u001b[39m].coordenadas\n\u001b[32m     79\u001b[39m     x3, y3 = \u001b[38;5;28mself\u001b[39m.nodes[\u001b[32m2\u001b[39m].coordenadas\n",
      "\u001b[31mAttributeError\u001b[39m: 'int' object has no attribute 'coordenadas'"
     ]
    }
   ],
   "source": [
    "nodes, elements = load_mesh_objects(geo_file=geo_file, msh_file=output_file)\n",
    "plot_mesh(nodes, elements, show_node_ids=True, show_elem_ids=True)"
   ]
  }
 ],
 "metadata": {
  "kernelspec": {
   "display_name": "Python 3",
   "language": "python",
   "name": "python3"
  },
  "language_info": {
   "codemirror_mode": {
    "name": "ipython",
    "version": 3
   },
   "file_extension": ".py",
   "mimetype": "text/x-python",
   "name": "python",
   "nbconvert_exporter": "python",
   "pygments_lexer": "ipython3",
   "version": "3.12.10"
  }
 },
 "nbformat": 4,
 "nbformat_minor": 5
}
