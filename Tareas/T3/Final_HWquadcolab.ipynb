{
  "cells": [
    {
      "cell_type": "code",
      "source": [
        "!pip install gmsh\n",
        "# %%\n",
        "!apt-get update && apt-get install -y libglu1-mesa\n",
        "# %%\n",
        "!pip install meshio"
      ],
      "metadata": {
        "colab": {
          "base_uri": "https://localhost:8080/"
        },
        "id": "C0WXx9appHXs",
        "outputId": "dc6b7da2-0f2d-4bb3-9b50-b7a6dcf0d223"
      },
      "id": "C0WXx9appHXs",
      "execution_count": 84,
      "outputs": [
        {
          "output_type": "stream",
          "name": "stdout",
          "text": [
            "Requirement already satisfied: gmsh in /usr/local/lib/python3.11/dist-packages (4.13.1)\n",
            "Hit:1 http://archive.ubuntu.com/ubuntu jammy InRelease\n",
            "Hit:2 https://developer.download.nvidia.com/compute/cuda/repos/ubuntu2204/x86_64  InRelease\n",
            "Hit:3 https://cloud.r-project.org/bin/linux/ubuntu jammy-cran40/ InRelease\n",
            "Hit:4 http://archive.ubuntu.com/ubuntu jammy-updates InRelease\n",
            "Hit:5 http://archive.ubuntu.com/ubuntu jammy-backports InRelease\n",
            "Hit:6 https://r2u.stat.illinois.edu/ubuntu jammy InRelease\n",
            "Hit:7 http://security.ubuntu.com/ubuntu jammy-security InRelease\n",
            "Hit:8 https://ppa.launchpadcontent.net/deadsnakes/ppa/ubuntu jammy InRelease\n",
            "Hit:9 https://ppa.launchpadcontent.net/graphics-drivers/ppa/ubuntu jammy InRelease\n",
            "Hit:10 https://ppa.launchpadcontent.net/ubuntugis/ppa/ubuntu jammy InRelease\n",
            "Reading package lists... Done\n",
            "W: Skipping acquire of configured file 'main/source/Sources' as repository 'https://r2u.stat.illinois.edu/ubuntu jammy InRelease' does not seem to provide it (sources.list entry misspelt?)\n",
            "Reading package lists... Done\n",
            "Building dependency tree... Done\n",
            "Reading state information... Done\n",
            "libglu1-mesa is already the newest version (9.0.2-1).\n",
            "0 upgraded, 0 newly installed, 0 to remove and 95 not upgraded.\n",
            "Requirement already satisfied: meshio in /usr/local/lib/python3.11/dist-packages (5.3.5)\n",
            "Requirement already satisfied: numpy>=1.20.0 in /usr/local/lib/python3.11/dist-packages (from meshio) (2.0.2)\n",
            "Requirement already satisfied: rich in /usr/local/lib/python3.11/dist-packages (from meshio) (13.9.4)\n",
            "Requirement already satisfied: markdown-it-py>=2.2.0 in /usr/local/lib/python3.11/dist-packages (from rich->meshio) (3.0.0)\n",
            "Requirement already satisfied: pygments<3.0.0,>=2.13.0 in /usr/local/lib/python3.11/dist-packages (from rich->meshio) (2.19.1)\n",
            "Requirement already satisfied: mdurl~=0.1 in /usr/local/lib/python3.11/dist-packages (from markdown-it-py>=2.2.0->rich->meshio) (0.1.2)\n"
          ]
        }
      ]
    },
    {
      "cell_type": "code",
      "execution_count": 85,
      "id": "6f04a8c8",
      "metadata": {
        "id": "6f04a8c8"
      },
      "outputs": [],
      "source": [
        "import numpy as np\n",
        "import matplotlib.pyplot as plt\n",
        "import gmsh\n",
        "import os\n",
        "import meshio\n",
        "import math\n",
        "import sys\n",
        "from matplotlib.patches import Polygon\n",
        "import matplotlib.cm as cm  # Importar módulo de colormap\n",
        "from Quad4 import Quad4\n",
        "from Node import Node\n",
        "from units import mm, cm, m, kgf, N, tf, kN, MPa, GPa\n",
        "from fem import Material, Membrane\n",
        "from functions import matrix_extract,  get_nodes_from_physical_id, get_line_load_global_vector, matrix_replace"
      ]
    },
    {
      "cell_type": "code",
      "execution_count": 86,
      "id": "383be179",
      "metadata": {
        "id": "383be179"
      },
      "outputs": [],
      "source": [
        "output_file = \"mallas/mallaprueba.msh\"   #cambiar el numero de la malla --> malla_quad4G1.msh, malla_quad4G2.msh, malla_quad4G3.msh, malla_quad4G4.msh, malla_quad4L1.msh,....\n",
        "titulo = \"prueba1\"#\"Quad 9 Global refinement case 1\" #Cambiar el numero y G-->L"
      ]
    },
    {
      "cell_type": "markdown",
      "id": "156b6f51",
      "metadata": {
        "id": "156b6f51"
      },
      "source": [
        "Then, we create all the material properties"
      ]
    },
    {
      "cell_type": "code",
      "execution_count": 87,
      "id": "d81b029f",
      "metadata": {
        "id": "d81b029f"
      },
      "outputs": [],
      "source": [
        "ASTM_36 = Material.Material(name=\"ASTM 36\", E=200.0 * GPa, nu=0.30, rho=7850 * kgf / m**3)\n",
        "Sup1 = Membrane.Membrane(name=\"Steel\", thickness=2 * cm, material=ASTM_36)\n",
        "Sup2 = Membrane.Membrane(name=\"Steel\", thickness=2 * cm, material=ASTM_36)\n",
        "section_dict = {\"201\": Sup1, \"202\":Sup2}"
      ]
    },
    {
      "cell_type": "markdown",
      "id": "8889a1af",
      "metadata": {
        "id": "8889a1af"
      },
      "source": [
        "Now is necessary to group the nodes in differnt groups. In this case, there are 3 groups: Heads, handle_big and handle_thin"
      ]
    },
    {
      "cell_type": "code",
      "execution_count": 88,
      "id": "39cc1e9e",
      "metadata": {
        "colab": {
          "base_uri": "https://localhost:8080/"
        },
        "id": "39cc1e9e",
        "outputId": "a5f4b368-39af-420a-eba4-d40f48347236"
      },
      "outputs": [
        {
          "output_type": "stream",
          "name": "stdout",
          "text": [
            "\n"
          ]
        }
      ],
      "source": [
        "def crear_nodo(node_id, coords, grupo):\n",
        "    restrain = [\"r\", \"r\"] if grupo in [\"BC_R1\", \"BC_R2\"] else [\"f\", \"f\"]\n",
        "    return Node(node_id, coords, restrain=restrain)\n",
        "\n",
        "mesh = meshio.read(output_file)\n",
        "tag_to_name = {v[0]: k for k, v in mesh.field_data.items()}\n",
        "\n",
        "grupos = {}\n",
        "    # Elementos tipo \"quad\" → para el dominio estructural\n",
        "for cell_block, phys_tags in zip(mesh.cells, mesh.cell_data[\"gmsh:physical\"]):\n",
        "        if cell_block.type != \"quad\":\n",
        "            continue\n",
        "        for quad, tag in zip(cell_block.data, phys_tags):\n",
        "            nombre = tag_to_name.get(tag, f\"{tag}\")\n",
        "            if nombre not in grupos:\n",
        "                grupos[nombre] = []\n",
        "            for node_id in quad:\n",
        "                x, y = mesh.points[node_id][:2]\n",
        "                grupos[nombre].append(Node(node_id + 1, [x, y]))\n",
        "\n",
        "    # Elementos tipo \"line\" → condiciones de borde\n",
        "for cell_block, phys_tags in zip(mesh.cells, mesh.cell_data[\"gmsh:physical\"]):\n",
        "        if cell_block.type != \"line\":\n",
        "            continue\n",
        "        for line, tag in zip(cell_block.data, phys_tags):\n",
        "            nombre = tag_to_name.get(tag, f\"{tag}\")\n",
        "            if nombre not in grupos:\n",
        "                grupos[nombre] = []\n",
        "            for node_id in line:\n",
        "                x, y = mesh.points[node_id][:2]\n",
        "                restrain = [\"f\", \"f\"]\n",
        "                if nombre in [\"BC_R1\"]:\n",
        "                    restrain = [\"r\", \"r\"]\n",
        "                grupos[nombre].append(Node(node_id + 1, [x, y], restrain=restrain))\n",
        "\n",
        "    # Eliminar nodos duplicados por grupo (según id)\n",
        "for nombre in grupos:\n",
        "        nodos_unicos = {}\n",
        "        for nodo in grupos[nombre]:\n",
        "            nodos_unicos[nodo.name] = nodo\n",
        "        grupos[nombre] = list(nodos_unicos.values())"
      ]
    },
    {
      "cell_type": "code",
      "execution_count": 89,
      "id": "46bb127e",
      "metadata": {
        "id": "46bb127e"
      },
      "outputs": [],
      "source": [
        "nodes_dict = {}\n",
        "for group in grupos:\n",
        "    for node in grupos[group]:\n",
        "        nodes_dict[node.name] = node"
      ]
    },
    {
      "cell_type": "code",
      "execution_count": 90,
      "id": "2236e6f8",
      "metadata": {
        "id": "2236e6f8"
      },
      "outputs": [],
      "source": [
        "def ordenar_nodos_quad(nodos):\n",
        "    coords = np.array([n.coordenadas for n in nodos])\n",
        "    cx, cy = np.mean(coords, axis=0)\n",
        "    angulos = np.arctan2(coords[:, 1] - cy, coords[:, 0] - cx)\n",
        "    orden = np.argsort(angulos)\n",
        "    return [nodos[i] for i in orden]"
      ]
    },
    {
      "cell_type": "code",
      "execution_count": 91,
      "id": "b9c22d6d",
      "metadata": {
        "id": "b9c22d6d"
      },
      "outputs": [],
      "source": [
        "quads = mesh.cells_dict.get('quad', [])\n",
        "tags = mesh.cell_data_dict[\"gmsh:physical\"].get(\"quad\", [])\n",
        "elements = []\n",
        "nodes = set()\n",
        "nodos_faltantes = []\n",
        "\n",
        "for i in range(len(tags)):\n",
        "        section_tag = str(tags[i])\n",
        "        if section_tag not in section_dict:\n",
        "            print(f\"⚠️ Tag físico {section_tag} no tiene sección asociada. Elemento {i+1} omitido.\")\n",
        "            continue\n",
        "\n",
        "        section = section_dict[section_tag]\n",
        "        node_ids = quads[i]\n",
        "\n",
        "        try:\n",
        "            nodos = [nodes_dict[node_id + 1] for node_id in node_ids]\n",
        "        except KeyError as e:\n",
        "            nodos_faltantes.append(node_ids)\n",
        "            print(f\"❌ Nodo no encontrado en nodes_dict: {e}\")\n",
        "            continue\n",
        "\n",
        "        for nodo in nodos:\n",
        "\n",
        "            nodes.add(nodo)\n",
        "        nodos = ordenar_nodos_quad(nodos)\n",
        "        #print(nodos)\n",
        "\n",
        "        element = Quad4(i + 1, nodos, section)\n",
        "        elements.append(element)\n",
        "\n",
        "if nodos_faltantes:\n",
        "        print(f\"❌ Se omitieron {len(nodos_faltantes)} elementos por nodos faltantes.\")"
      ]
    },
    {
      "cell_type": "markdown",
      "id": "2a4341ab",
      "metadata": {
        "id": "2a4341ab"
      },
      "source": [
        "Here we plot the element, and see if the nodes that are restrain (Nut) or have a force applied (Force) are identified and plotted"
      ]
    },
    {
      "cell_type": "code",
      "execution_count": 92,
      "id": "bee49605",
      "metadata": {
        "colab": {
          "base_uri": "https://localhost:8080/",
          "height": 607
        },
        "id": "bee49605",
        "outputId": "a6037784-8190-4c2f-a848-222b15a877fc"
      },
      "outputs": [
        {
          "output_type": "display_data",
          "data": {
            "text/plain": [
              "<Figure size 800x600 with 1 Axes>"
            ],
            "image/png": "[encoded data removed]"
          },
          "metadata": {}
        }
      ],
      "source": [
        "todos_los_nodos =  list(set(nodes) | set(grupos.get(\"BC_R1\", [])) | set(grupos.get(\"BC_1\", [])) | set(grupos.get(\"otros_grupos\", [])))\n",
        "\n",
        "x = np.array([node.coordenadas[0] for node in todos_los_nodos])\n",
        "y = np.array([node.coordenadas[1] for node in todos_los_nodos])\n",
        "node_index_map = {node.name: i for i, node in enumerate(todos_los_nodos)}\n",
        "\n",
        "fig, ax = plt.subplots(figsize=(8, 6))\n",
        "\n",
        "# Dibujar elementos\n",
        "for elem in elements:\n",
        "    indices = [node_index_map[node.name] for node in elem.node_list]\n",
        "    coords = np.array([[x[i], y[i]] for i in indices + [indices[0]]])\n",
        "    ax.plot(coords[:, 0], coords[:, 1], \"k-\", linewidth=1)\n",
        "\n",
        "# Dibujar nodos Force\n",
        "# Dibujar grupo BC_1 en verde si existe\n",
        "if \"BC_1\" in grupos:\n",
        "    for i, node in enumerate(grupos[\"BC_1\"]):\n",
        "        if node.name in node_index_map:\n",
        "            idx = node_index_map[node.name]\n",
        "            ax.plot(x[idx], y[idx], \"ro\", markersize=6, label=\"BC_1\" if i == 0 else \"\")\n",
        "\n",
        "# Dibujar nodos Nut\n",
        "# Dibujar apoyos en azul desde los grupos físicos \"BC_R1\" y \"BC_R2\"\n",
        "for grupo in [\"BC_R1\"]:\n",
        "    if grupo in grupos:\n",
        "        for i, node in enumerate(grupos[grupo]):\n",
        "            if node.name in node_index_map:\n",
        "                idx = node_index_map[node.name]\n",
        "                ax.plot(x[idx], y[idx], 'bo', markersize=6, label='Restricción' if i == 0 else '')\n",
        "\n",
        "# Finalizar gráfico\n",
        "ax.set_title(\"Estructura con elementos y nodos marcados\")\n",
        "ax.set_xlabel(\"x\")\n",
        "ax.set_ylabel(\"y\")\n",
        "ax.set_aspect(\"equal\")\n",
        "ax.legend(\n",
        "    handles=[\n",
        "        plt.Line2D([0], [0], color=\"k\", lw=1, label=\"Element\"),\n",
        "        plt.Line2D([0], [0], marker=\"o\", color=\"w\", markerfacecolor=\"r\", markersize=6, label=\"Force\"),\n",
        "        plt.Line2D([0], [0], marker=\"o\", color=\"w\", markerfacecolor=\"b\", markersize=6, label=\"Fixed Support\"),\n",
        "    ],\n",
        "    loc=\"center left\",\n",
        "    bbox_to_anchor=(1.0, 0.5)\n",
        ")\n",
        "plt.tight_layout(rect=[0, 0, 0.85, 1])\n",
        "plt.show()"
      ]
    },
    {
      "cell_type": "code",
      "execution_count": 93,
      "id": "a8b9c3f2",
      "metadata": {
        "id": "a8b9c3f2"
      },
      "outputs": [],
      "source": [
        "def solve(nodes, elements):\n",
        "    \"\"\"\n",
        "    Resuelve el sistema FEM considerando cargas distribuidas en líneas.\n",
        "\n",
        "    Args:\n",
        "        nodes (list): Lista de nodos con .idx, .nodalLoad, .restrain\n",
        "        elements (list): Lista de elementos con .kg, .idx\n",
        "        mesh: Objeto meshio con malla y etiquetas físicas\n",
        "        load_dictionary (dict): Dict {id_físico: valor_carga}\n",
        "\n",
        "    Returns:\n",
        "        u (np.ndarray): Desplazamientos globales\n",
        "        F_reactions (np.ndarray): Reacciones en DOFs restringidos\n",
        "        Fj (np.ndarray): Fuerzas nodales aplicadas\n",
        "        F_total (np.ndarray): Fuerzas totales incluyendo reacciones\n",
        "    \"\"\"\n",
        "    nNodes = len(nodes)\n",
        "    system_nDof = 2 * nNodes  # 2 DOFs por nodo\n",
        "\n",
        "    # === CARGAS DISTRIBUIDAS EN LÍNEAS ===\n",
        "    F_line_global = np.zeros(system_nDof)\n",
        "    Fj = np.zeros(system_nDof)\n",
        "    for node in nodes:\n",
        "        for dof_idx, force in zip(node.idx, node.nodalLoad):\n",
        "            Fj[dof_idx] = force\n",
        "\n",
        "    # === MATRIZ DE RIGIDEZ GLOBAL ===\n",
        "    Kg = np.zeros((system_nDof, system_nDof))\n",
        "    for element in elements:\n",
        "        Kg = matrix_replace(Kg, element.kg, element.idx, element.idx)\n",
        "\n",
        "\n",
        "    # === RESTRICCIONES ===\n",
        "    nodeIndex = np.full(system_nDof, '', dtype=str)\n",
        "    for node in nodes:\n",
        "        for dof_idx, status in zip(node.idx, node.restrain):\n",
        "            nodeIndex[dof_idx] = status\n",
        "\n",
        "    freeIndices = np.where(nodeIndex == 'f')[0]\n",
        "    restrainedIndices = np.where(nodeIndex == 'r')[0]\n",
        "\n",
        "    # === PARTICIÓN DEL SISTEMA ===\n",
        "    Kff = matrix_extract(Kg, freeIndices, freeIndices)\n",
        "    Kfr = matrix_extract(Kg, freeIndices, restrainedIndices)\n",
        "    Krf = matrix_extract(Kg, restrainedIndices, freeIndices)\n",
        "    Krr = matrix_extract(Kg, restrainedIndices, restrainedIndices)\n",
        "\n",
        "    # === FUERZA TOTAL (aplicada + distribuida) ===\n",
        "    F = Fj + F_line_global\n",
        "    Ff = F[freeIndices]\n",
        "    Fr = F[restrainedIndices]\n",
        "\n",
        "    # === SOLUCIÓN ===\n",
        "    uf = np.linalg.solve(Kff, Ff - Kfr @ Fr)\n",
        "    ur = np.zeros(len(restrainedIndices))\n",
        "\n",
        "    u = np.zeros(system_nDof)\n",
        "    u[freeIndices] = uf\n",
        "    u[restrainedIndices] = ur\n",
        "\n",
        "    # === REACCIONES ===\n",
        "    Fr = Krf @ uf + Krr @ ur\n",
        "    F_reactions = np.zeros(system_nDof)\n",
        "    F_reactions[restrainedIndices] = Fr\n",
        "\n",
        "    return u"
      ]
    },
    {
      "cell_type": "code",
      "execution_count": 94,
      "id": "549e8c3c",
      "metadata": {
        "id": "549e8c3c"
      },
      "outputs": [],
      "source": [
        "def ensure_dir(directory):\n",
        "    if not os.path.exists(directory):\n",
        "        os.makedirs(directory)"
      ]
    },
    {
      "cell_type": "markdown",
      "id": "cbce7c75",
      "metadata": {
        "id": "cbce7c75"
      },
      "source": [
        "De aquí para abajo empieza la configuración de las fuerzas:\n",
        "\n",
        "1er caso: Fuerza distribuida\n",
        "\n",
        "2do caso: Fuerza puntual\n",
        "\n",
        "3er caso: Fuerza distribuida con peso propio"
      ]
    },
    {
      "cell_type": "markdown",
      "id": "9ec318b2",
      "metadata": {
        "id": "9ec318b2"
      },
      "source": [
        "Primer Caso: Fuerza distribuida"
      ]
    },
    {
      "cell_type": "code",
      "execution_count": 95,
      "id": "45504e1d",
      "metadata": {
        "id": "45504e1d"
      },
      "outputs": [],
      "source": [
        "def apply_distributed_force(grupo_nodos, fuerza_total):\n",
        "    \"\"\"\n",
        "    Aplica una fuerza distribuida a lo largo de una línea definida por nodos.\n",
        "    La fuerza total se reparte proporcionalmente según la longitud de cada segmento.\n",
        "\n",
        "    Args:\n",
        "        grupo_nodos (list): Lista de nodos (Node) ordenados a lo largo de la línea.\n",
        "        fuerza_total (float): Fuerza total a repartir (en N o unidades consistentes).\n",
        "                              Puede estar en cualquier dirección (por ejemplo, solo vertical).\n",
        "    \"\"\"\n",
        "    nodos = grupo_nodos\n",
        "    n = len(nodos)\n",
        "\n",
        "    if n < 2:\n",
        "        print(\"Se requieren al menos dos nodos para aplicar fuerza distribuida.\")\n",
        "        return\n",
        "\n",
        "    # Paso 1: calcular longitud total y longitudes de tramos\n",
        "    longitudes = []\n",
        "    total_length = 0.0\n",
        "\n",
        "    for i in range(n - 1):\n",
        "        dx = nodos[i+1].coordenadas[0] - nodos[i].coordenadas[0]\n",
        "        dy = nodos[i+1].coordenadas[1] - nodos[i].coordenadas[1]\n",
        "        L = np.sqrt(dx**2 + dy**2)\n",
        "        longitudes.append(L)\n",
        "        total_length += L\n",
        "\n",
        "    if total_length == 0:\n",
        "        print(\"La longitud total es cero, no se puede aplicar la fuerza.\")\n",
        "        return\n",
        "\n",
        "    # Paso 2: calcular fuerza distribuida por unidad de longitud\n",
        "    q_lineal = fuerza_total / total_length  # N/m\n",
        "\n",
        "    # Paso 3: inicializar fuerzas nodales acumuladas\n",
        "    nodal_forces = {node.name: np.array([0.0, 0.0]) for node in nodos}\n",
        "\n",
        "    # Paso 4: recorrer cada segmento y distribuir fuerza\n",
        "    for i in range(n - 1):\n",
        "        ni = nodos[i]\n",
        "        nj = nodos[i + 1]\n",
        "        xi, yi = ni.coordenadas\n",
        "        xj, yj = nj.coordenadas\n",
        "\n",
        "        dx = xj - xi\n",
        "        dy = yj - yi\n",
        "        L = longitudes[i]\n",
        "\n",
        "        # Vector unitario del tramo\n",
        "        tx = dx / L\n",
        "        ty = dy / L\n",
        "\n",
        "        # Vector normal (perpendicular)\n",
        "        nx = 1\n",
        "        ny = 0  # sentido hacia abajo si horizontal\n",
        "\n",
        "        # Fuerza total en el tramo\n",
        "        F_total = q_lineal * L\n",
        "\n",
        "        # Componentes globales de la fuerza\n",
        "        fx = F_total * nx\n",
        "        fy = F_total * ny\n",
        "\n",
        "        # Distribuir mitad a cada nodo del segmento\n",
        "        nodal_forces[ni.name] += np.array([fx / 2, fy / 2])\n",
        "        nodal_forces[nj.name] += np.array([fx / 2, fy / 2])\n",
        "\n",
        "    # Paso 5: asignar fuerzas a cada nodo\n",
        "    for node in nodos:\n",
        "        fx, fy = nodal_forces[node.name]\n",
        "        node.set_nodalLoad([fx, fy])"
      ]
    },
    {
      "cell_type": "markdown",
      "id": "2c13ad3e",
      "metadata": {
        "id": "2c13ad3e"
      },
      "source": [
        "Acá se define el segundo caso: Fuerza puntual"
      ]
    },
    {
      "cell_type": "code",
      "execution_count": 96,
      "id": "9d7af4f8",
      "metadata": {
        "id": "9d7af4f8"
      },
      "outputs": [],
      "source": [
        "def single_force(nodes, grupo_nodos, fuerza_total_y):\n",
        "    \"\"\"\n",
        "    Aplica una fuerza puntual vertical (por ejemplo, peso) sobre un nodo específico.\n",
        "    La fuerza se descompone en x e y.\n",
        "    \"\"\"\n",
        "    for j in nodes:\n",
        "        j.set_nodalLoad([0,0])\n",
        "    # Paso 1: ordena nodos si es necesario (aquí asumimos que ya están ordenados)\n",
        "    nodos = grupo_nodos\n",
        "\n",
        "\n",
        "    # Paso 2: escoger un nodo específico (por ejemplo, el primero)\n",
        "    nodo = nodos[0]  # Cambia esto si deseas otro nodo\n",
        "    x, y = nodo.coordenadas[0], nodo.coordenadas[1]\n",
        "    # Paso 3: aplicar carga puntual\n",
        "    # Fuerza total a aplicar\n",
        "    F_total = fuerza_total_y  # N\n",
        "    # Componente de fuerza en x y y (globales)\n",
        "    fx = 0.0  # Cambia esto si deseas una fuerza en x\n",
        "    fy = F_total  # Fuerza en y\n",
        "    nodo.set_nodalLoad([0,-fy])\n"
      ]
    },
    {
      "cell_type": "markdown",
      "id": "9bfbc91b",
      "metadata": {
        "id": "9bfbc91b"
      },
      "source": []
    },
    {
      "cell_type": "code",
      "execution_count": 97,
      "id": "e5b37627",
      "metadata": {
        "id": "e5b37627"
      },
      "outputs": [],
      "source": [
        "def apply_distributed_force_especial(grupos, elementos, fuerza_total_x):\n",
        "    \"\"\"\n",
        "    Aplica una fuerza distribuida especial sobre los elementos y carga el peso propio.\n",
        "    \"\"\"\n",
        "    # Itera sobre los elementos\n",
        "    for element in elementos:\n",
        "        centroid = element.get_centroid()  # Calcula el centroide del elemento\n",
        "\n",
        "        # Obtener el área del elemento (debería ser calculada dentro de la clase Quad4)\n",
        "        area = element.area\n",
        "        thickness = element.section.thickness / 100  # Asegúrate de que el espesor esté en las unidades correctas\n",
        "        rho = element.section.material.rho  # Densidad del material\n",
        "\n",
        "        # Calcular el peso del elemento\n",
        "        weight = area * thickness * rho * 9.81  # Fuerza por el peso propio (en N)\n",
        "\n",
        "        # Calcular las fuerzas internas distribuidas por el peso\n",
        "        F_interna = element.body_weight_forces(x=centroid[0], y=centroid[1], force_vector=[0, weight]) / 4  # Distribuir entre 4 nodos\n",
        "\n",
        "        # Obtener los nodos del elemento\n",
        "        node_a, node_b, node_c, node_d = element.node_list\n",
        "\n",
        "        # Actualizar las cargas nodales\n",
        "        for node, force in zip([node_a, node_b, node_c, node_d], [F_interna] * 4):\n",
        "            if node.nodalLoad[0] == 0 and node.nodalLoad[1] == 0:\n",
        "                node.set_nodalLoad([force[0], -force[1]])\n",
        "            else:\n",
        "                node.set_nodalLoad([node.nodalLoad[0] + force[0], node.nodalLoad[1] - force[1]])\n",
        "\n",
        "    # Aplica la fuerza distribuida a los nodos del grupo \"Force\"\n",
        "    if \"BC_1\" in grupos:\n",
        "        nodos_fuerza = grupos[\"BC_1\"]\n",
        "\n",
        "    nodos = nodos_fuerza\n",
        "    n = len(nodos)\n",
        "\n",
        "    if n < 2:\n",
        "        print(\"Se requieren al menos dos nodos para aplicar fuerza distribuida.\")\n",
        "        return\n",
        "\n",
        "    # Calcular longitud total de la línea\n",
        "    longitudes = []\n",
        "    total_length = 0\n",
        "    for i in range(n - 1):\n",
        "        dx = nodos[i+1].coordenadas[0] - nodos[i].coordenadas[0]\n",
        "        dy = nodos[i+1].coordenadas[1] - nodos[i].coordenadas[1]\n",
        "        L = np.sqrt(dx**2 + dy**2)\n",
        "        longitudes.append(L)\n",
        "        total_length += L\n",
        "\n",
        "    # Calcular carga distribuida por unidad de longitud\n",
        "    q_lineal = fuerza_total_x / total_length  # N/m\n",
        "\n",
        "    # Aplicar cargas parciales a cada nodo\n",
        "    nodal_forces = {node.name: np.array([0.0, 0.0]) for node in nodos}\n",
        "\n",
        "    for i in range(n - 1):\n",
        "        ni = nodos[i]\n",
        "        nj = nodos[i + 1]\n",
        "        xi, yi = ni.coordenadas[0], ni.coordenadas[1]\n",
        "        xj, yj = nj.coordenadas[0], nj.coordenadas[1]\n",
        "\n",
        "        dx = xj - xi\n",
        "        dy = yj - yi\n",
        "        L = longitudes[i]\n",
        "\n",
        "        # Dirección normalizada del tramo (unitario)\n",
        "        vx = dx / L\n",
        "        vy = dy / L\n",
        "\n",
        "        # Vector perpendicular (hacia la derecha)\n",
        "        nx = vy\n",
        "        ny = vx\n",
        "\n",
        "        # Fuerza total sobre el tramo\n",
        "        Fi = q_lineal * L  # Total fuerza sobre el tramo\n",
        "\n",
        "        # Componentes de fuerza en x y y (globales)\n",
        "        fx = Fi * nx\n",
        "        fy = Fi * ny\n",
        "\n",
        "        # Distribuir mitad a cada nodo\n",
        "        nodal_forces[ni.name] += np.array([fx / 2, fy / 2])\n",
        "        nodal_forces[nj.name] += np.array([fx / 2, fy / 2])\n",
        "\n",
        "    # Asignar fuerzas nodales a los nodos\n",
        "    for node in nodos:\n",
        "        fx, fy = nodal_forces[node.name]\n",
        "        f_px, f_py = node.nodalLoad[0], node.nodalLoad[1]\n",
        "        node.set_nodalLoad([fx + f_px, fy + f_py])\n"
      ]
    },
    {
      "cell_type": "code",
      "execution_count": 98,
      "id": "3ba82ac5",
      "metadata": {
        "id": "3ba82ac5"
      },
      "outputs": [],
      "source": [
        "import numpy as np\n",
        "import matplotlib.pyplot as plt\n",
        "import os\n",
        "\n",
        "def compute_stress_strain_components(elements, u):\n",
        "    results = []\n",
        "    for elem in elements:\n",
        "        sigma, epsilon, _ = elem.get_element_stress(u)  # σxx, σyy, σxy\n",
        "        exx, eyy, exy = epsilon\n",
        "        sxx, syy, sxy = sigma\n",
        "\n",
        "        avg_eps = 0.5 * (exx + eyy)\n",
        "        rad_eps = np.sqrt(((exx - eyy) / 2) ** 2 + exy ** 2)\n",
        "        eps1 = avg_eps + rad_eps\n",
        "        eps2 = avg_eps - rad_eps\n",
        "\n",
        "        avg_sig = 0.5 * (sxx + syy)\n",
        "        rad_sig = np.sqrt(((sxx - syy) / 2) ** 2 + sxy ** 2)\n",
        "        sig1 = avg_sig + rad_sig\n",
        "        sig2 = avg_sig - rad_sig\n",
        "\n",
        "        results.append({\n",
        "            \"element\": elem.element_tag,\n",
        "            \"σxx\": sxx, \"σyy\": syy, \"σxy\": sxy,\n",
        "            \"εxx\": exx, \"εyy\": eyy, \"εxy\": exy,\n",
        "            \"σ1\": sig1, \"σ2\": sig2,\n",
        "            \"ε1\": eps1, \"ε2\": eps2\n",
        "        })\n",
        "    return results\n",
        "\n",
        "def ensure_dir(folder):\n",
        "    if not os.path.exists(folder):\n",
        "        os.makedirs(folder)\n",
        "\n",
        "def average_element_values_to_nodes(nodes, elements, element_values):\n",
        "    from collections import defaultdict\n",
        "    val_sum = defaultdict(float)\n",
        "    val_count = defaultdict(int)\n",
        "    for elem, val in zip(elements, element_values):\n",
        "        for node in elem.node_list:\n",
        "            val_sum[node.name] += val\n",
        "            val_count[node.name] += 1\n",
        "    node_id_to_avg = {\n",
        "        nid: val_sum[nid] / val_count[nid] for nid in val_sum\n",
        "    }\n",
        "    node_id_to_index = {node.name: i for i, node in enumerate(nodes)}\n",
        "    nodal_values = np.array([\n",
        "        node_id_to_avg[node.name] for node in nodes\n",
        "    ])\n",
        "    return nodal_values\n",
        "\n",
        "def quad4_to_triangles(elements, node_id_to_index):\n",
        "    triangles = []\n",
        "    for elem in elements:\n",
        "        ids = [node_id_to_index[n.name] for n in elem.node_list]\n",
        "        triangles.append([ids[0], ids[1], ids[2]])\n",
        "        triangles.append([ids[0], ids[2], ids[3]])\n",
        "    return triangles\n",
        "\n",
        "def plot_scalar_field_on_mesh(nodes, elements, values, title, folder=\"figuras\", filename=None, cmap=\"viridis\"):\n",
        "    import matplotlib.tri as mtri\n",
        "    ensure_dir(folder)\n",
        "\n",
        "    node_id_to_index = {node.name: i for i, node in enumerate(nodes)}\n",
        "    xs = np.array([node.coordenadas[0] for node in nodes])\n",
        "    ys = np.array([node.coordenadas[1] for node in nodes])\n",
        "    nodal_values = np.array(values)\n",
        "    triangles = quad4_to_triangles(elements, node_id_to_index)\n",
        "    triang = mtri.Triangulation(xs, ys, triangles)\n",
        "\n",
        "    # Márgenes automáticos\n",
        "    x_min, x_max = np.min(xs), np.max(xs)\n",
        "    y_min, y_max = np.min(ys), np.max(ys)\n",
        "    x_margin = (x_max - x_min) * 0.05\n",
        "    y_margin = (y_max - y_min) * 0.05\n",
        "    x_range = (x_max - x_min) + 2 * x_margin\n",
        "    y_range = (y_max - y_min) + 2 * y_margin\n",
        "    fixed_width = 8\n",
        "    height = fixed_width * (y_range / x_range)\n",
        "\n",
        "    fig, ax = plt.subplots(figsize=(fixed_width, height))\n",
        "    tcf = ax.tricontourf(triang, nodal_values, levels=20, cmap=cmap)\n",
        "\n",
        "    cbar = fig.colorbar(tcf, ax=ax)\n",
        "    cbar.set_label(title)\n",
        "    ax.set_title(title)\n",
        "    ax.set_xlabel(\"x\")\n",
        "    ax.set_ylabel(\"y\")\n",
        "    ax.set_xlim(x_min - x_margin, x_max + x_margin)\n",
        "    ax.set_ylim(y_min - y_margin, y_max + y_margin)\n",
        "    ax.set_aspect(\"equal\", adjustable='box')\n",
        "    ax.grid(True)\n",
        "    plt.tight_layout()\n",
        "\n",
        "    if filename is None:\n",
        "        filename = title.replace(\" \", \"_\").replace(\"—\", \"-\") + \".png\"\n",
        "    filepath = os.path.join(folder, filename)\n",
        "    plt.savefig(filepath, dpi=300, bbox_inches=\"tight\")\n",
        "    plt.close()\n",
        "\n",
        "def plot_all_fields(results, nodes, elements, i):\n",
        "    fields = [\"\\u03c3xx\", \"\\u03c3yy\", \"\\u03c3xy\", \"\\u03c31\", \"\\u03c32\", \"\\u03b5xx\", \"\\u03b5yy\", \"\\u03b5xy\", \"\\u03b51\", \"\\u03b52\"]\n",
        "    titles = {\n",
        "        \"\\u03c3xx\": \"Stress σxx\", \"\\u03c3yy\": \"Stress σyy\", \"\\u03c3xy\": \"Stress σxy\",\n",
        "        \"\\u03c31\": \"Maximum Principal Stress σ1\", \"\\u03c32\": \"Minimum Principal Stress σ2\",\n",
        "        \"\\u03b5xx\": \"Strain εxx\", \"\\u03b5yy\": \"Strain εyy\", \"\\u03b5xy\": \"Strain εxy\",\n",
        "        \"\\u03b51\": \"Maximum Principal Strain ε1\", \"\\u03b52\": \"Minimum Principal Strain ε2\"\n",
        "    }\n",
        "    caso = titulo\n",
        "    for field in fields:\n",
        "        element_values = [res[field] for res in results]\n",
        "        nodal_values = average_element_values_to_nodes(nodes, elements, element_values)\n",
        "        plot_scalar_field_on_mesh(nodes, elements, nodal_values, f\"{caso} — {titles[field]}\", folder=\"Resultados\")\n"
      ]
    },
    {
      "cell_type": "code",
      "execution_count": 99,
      "id": "1210eec4",
      "metadata": {
        "id": "1210eec4"
      },
      "outputs": [],
      "source": [
        "def plot_deformed_shape(nodes, elements, u, contador, scale, folder=\"figuras\", title=None):\n",
        "    \"\"\"\n",
        "    Dibuja la estructura deformada y original, marcando nodos cargados y restringidos.\n",
        "\n",
        "    Args:\n",
        "        nodes (list): lista de nodos con .coordenadas, .name, .idx\n",
        "        elements (list): lista de elementos con .node_list\n",
        "        u (np.ndarray): vector de desplazamientos global\n",
        "        contador (int): índice del caso (0, 1, 2)\n",
        "        scale (float): factor de amplificación de la deformación\n",
        "    \"\"\"\n",
        "    filename = None\n",
        "    # Inicializar vectores de coordenadas\n",
        "    n = len(nodes)\n",
        "    x = np.zeros(n)\n",
        "    y = np.zeros(n)\n",
        "    x_def = np.zeros(n)\n",
        "    y_def = np.zeros(n)\n",
        "\n",
        "    # Construcción coordenadas originales y deformadas usando node.idx\n",
        "    for i, node in enumerate(nodes):\n",
        "        x[i] = node.coordenadas[0]\n",
        "        y[i] = node.coordenadas[1]\n",
        "        x_def[i] = x[i] + scale * u[node.idx[0]]\n",
        "        y_def[i] = y[i] + scale * u[node.idx[1]]\n",
        "\n",
        "    # Mapeo name → índice en array\n",
        "    node_index_map = {node.name: i for i, node in enumerate(nodes)}\n",
        "\n",
        "    # Gráfico\n",
        "    fig, ax = plt.subplots(figsize=(8, 6))\n",
        "\n",
        "    # Estructura original (negro)\n",
        "    for elem in elements:\n",
        "        indices = [node_index_map[node.name] for node in elem.node_list]\n",
        "        coords = np.array([[x[i], y[i]] for i in indices + [indices[0]]])\n",
        "        ax.plot(coords[:, 0], coords[:, 1], 'k-', linewidth=1)\n",
        "\n",
        "    # Estructura deformada (rojo punteado)\n",
        "    for elem in elements:\n",
        "        indices = [node_index_map[node.name] for node in elem.node_list]\n",
        "        coords = np.array([[x_def[i], y_def[i]] for i in indices + [indices[0]]])\n",
        "        ax.plot(coords[:, 0], coords[:, 1], 'r--', linewidth=1)\n",
        "\n",
        "\n",
        "\n",
        "    ax.set_title(title)  # Usar 'title' que ya está correctamente asignado\n",
        "    ax.set_xlabel(\"x\")\n",
        "    ax.set_ylabel(\"y\")\n",
        "    ax.set_aspect(\"equal\")\n",
        "\n",
        "    # Leyenda fuera del gráfico\n",
        "    ax.legend(\n",
        "        handles=[\n",
        "            plt.Line2D([0], [0], color='k', lw=1, label='Element'),\n",
        "            plt.Line2D([0], [0], linestyle='--', color='r', lw=1, label='Deformada')\n",
        "        ],\n",
        "        loc=\"center left\",\n",
        "        bbox_to_anchor=(1.02, 0.5)\n",
        "    )\n",
        "\n",
        "    plt.tight_layout(rect=[0, 0, 0.85, 1])\n",
        "    ensure_dir(folder)\n",
        "    if filename is None:\n",
        "        filename = title.replace(\" \", \"_\").replace(\"—\", \"-\") + \".png\"\n",
        "    filepath = os.path.join(folder, filename)\n",
        "    plt.savefig(filepath, dpi=300)\n"
      ]
    },
    {
      "cell_type": "code",
      "execution_count": 100,
      "id": "87d44946",
      "metadata": {
        "colab": {
          "base_uri": "https://localhost:8080/",
          "height": 607
        },
        "id": "87d44946",
        "outputId": "3033ec12-d817-46b7-d2db-a463f08b4518"
      },
      "outputs": [
        {
          "output_type": "display_data",
          "data": {
            "text/plain": [
              "<Figure size 800x600 with 1 Axes>"
            ],
            "image/png": "[encoded data removed]"
          },
          "metadata": {}
        }
      ],
      "source": [
        "if \"BC_1\" in grupos:\n",
        "    nodos_fuerza = grupos[\"BC_1\"]\n",
        "i=1\n",
        "apply_distributed_force_especial(grupos, elements, 1500*kN)\n",
        "u=solve(nodes, elements)\n",
        "plot_deformed_shape(nodes, elements, u, i, scale=100, folder=\"Resultados\", title=f\"{titulo} deformation\")\n",
        "results = compute_stress_strain_components(elements, u)\n",
        "plot_all_fields(results, nodes, elements, i)\n",
        "results_inicial= results\n",
        "for j in nodes:\n",
        "    j.set_nodalLoad([0,0])\n",
        "results=0\n"
      ]
    },
    {
      "cell_type": "markdown",
      "id": "c4045ef4",
      "metadata": {
        "id": "c4045ef4"
      },
      "source": [
        "Ahora con los 3 casos listos, procedemos a ver el tema de la optimización de sección mantiniendo el volumen constante"
      ]
    },
    {
      "cell_type": "code",
      "execution_count": 101,
      "id": "3c04b49b",
      "metadata": {
        "id": "3c04b49b"
      },
      "outputs": [],
      "source": [
        "def total_volume(elements):\n",
        "    return sum(elem.area * elem.section.thickness for elem in elements)\n",
        "V0 = total_volume(elements)"
      ]
    },
    {
      "cell_type": "code",
      "execution_count": 102,
      "id": "cbe6e83a",
      "metadata": {
        "colab": {
          "base_uri": "https://localhost:8080/"
        },
        "id": "cbe6e83a",
        "outputId": "ed0459b2-ff51-4a62-df77-d23e2911f66d"
      },
      "outputs": [
        {
          "output_type": "stream",
          "name": "stdout",
          "text": [
            "Volumen inicial: 9750000.0\n",
            "Volumen final: 9749999.999999993\n",
            "Diferencia relativa: 7.64162112505008e-16\n"
          ]
        }
      ],
      "source": [
        "def total_volume_of_group(elements, group_nodes):\n",
        "    total_volume = 0.0\n",
        "    area_total = 0.0\n",
        "    group_node_ids = set(node.name for node in group_nodes)\n",
        "\n",
        "    for elem in elements:\n",
        "        elem_node_ids = set(node.name for node in elem.node_list)\n",
        "        if elem_node_ids.issubset(group_node_ids):  # ✅ Solo si todos los nodos están en el grupo\n",
        "            total_volume += elem.area * elem.section.thickness\n",
        "            area_total += elem.area\n",
        "\n",
        "    return total_volume, area_total\n",
        "\n",
        "# --- Volúmenes y áreas ---\n",
        "# Paso 1: calcular volumen inicial\n",
        "V_total_inicial = total_volume(elements)\n",
        "\n",
        "# Paso 2: definir grupos\n",
        "heads_nodes = grupos['Steel1'] #parte pegada al apoyo\n",
        "handle_nodes = grupos['Steel2'] #parte externa\n",
        "\n",
        "# Paso 3: calcular volumen y área de cada grupo\n",
        "V_heads, A_heads = total_volume_of_group(elements, heads_nodes)\n",
        "V_handle, A_handle = total_volume_of_group(elements, handle_nodes)\n",
        "\n",
        "# Paso 4: definir porcentaje de redistribución\n",
        "reduction_factor = 1.5  # 5% de reducción en manilla\n",
        "\n",
        "# Paso 5: calcular nuevos espesores\n",
        "new_thickness_handle = (V_handle * reduction_factor) / A_handle\n",
        "V_handle_nuevo = new_thickness_handle * A_handle\n",
        "V_heads_nuevo = V_total_inicial - V_handle_nuevo\n",
        "new_thickness_heads = V_heads_nuevo / A_heads\n",
        "\n",
        "# Paso 6: aplicar nuevos espesores\n",
        "# Primero a manilla\n",
        "handle_node_ids = set(node.name for node in handle_nodes)\n",
        "for elem in elements:\n",
        "    elem_node_ids = set(node.name for node in elem.node_list)\n",
        "    if elem_node_ids.issubset(handle_node_ids):\n",
        "        elem.section.thickness = new_thickness_handle\n",
        "\n",
        "# Luego a heads\n",
        "heads_node_ids = set(node.name for node in heads_nodes)\n",
        "for elem in elements:\n",
        "    elem_node_ids = set(node.name for node in elem.node_list)\n",
        "    if elem_node_ids.issubset(heads_node_ids):\n",
        "        elem.section.thickness = new_thickness_heads\n",
        "\n",
        "# Paso 7: chequear volumen\n",
        "V_total_final = total_volume(elements)\n",
        "print(\"Volumen inicial:\", V_total_inicial)\n",
        "print(\"Volumen final:\", V_total_final)\n",
        "print(\"Diferencia relativa:\", abs(V_total_final - V_total_inicial) / V_total_inicial)\n",
        "\n"
      ]
    },
    {
      "cell_type": "code",
      "execution_count": 103,
      "id": "b93bbf07",
      "metadata": {
        "colab": {
          "base_uri": "https://localhost:8080/",
          "height": 402
        },
        "id": "b93bbf07",
        "outputId": "ca13fb7c-03f1-4083-cf9a-05abcc223f70"
      },
      "outputs": [
        {
          "output_type": "stream",
          "name": "stdout",
          "text": [
            "Volumen total inicial: 9750000.0\n",
            "Veo que los elementos de la sección pegada a los apoyos tengan el nuevo espesor: 30.0\n",
            "Volumen total después de la unificación: 9749999.999999993\n"
          ]
        },
        {
          "output_type": "error",
          "ename": "TypeError",
          "evalue": "'int' object is not iterable",
          "traceback": [
            "\u001b[0;31m---------------------------------------------------------------------------\u001b[0m",
            "\u001b[0;31mTypeError\u001b[0m                                 Traceback (most recent call last)",
            "\u001b[0;32m<ipython-input-103-8ee897f7ff55>\u001b[0m in \u001b[0;36m<cell line: 0>\u001b[0;34m()\u001b[0m\n\u001b[1;32m      7\u001b[0m \u001b[0;31m#plot_deformed_shape(nodes, elements, u, i, scale=5, folder=\"Resultados\")\u001b[0m\u001b[0;34m\u001b[0m\u001b[0;34m\u001b[0m\u001b[0m\n\u001b[1;32m      8\u001b[0m \u001b[0;31m#results = compute_stress_strain_components(elements, u)\u001b[0m\u001b[0;34m\u001b[0m\u001b[0;34m\u001b[0m\u001b[0m\n\u001b[0;32m----> 9\u001b[0;31m \u001b[0mplot_all_fields\u001b[0m\u001b[0;34m(\u001b[0m\u001b[0mresults\u001b[0m\u001b[0;34m,\u001b[0m \u001b[0mnodes\u001b[0m\u001b[0;34m,\u001b[0m \u001b[0melements\u001b[0m\u001b[0;34m,\u001b[0m \u001b[0mi\u001b[0m\u001b[0;34m)\u001b[0m\u001b[0;34m\u001b[0m\u001b[0;34m\u001b[0m\u001b[0m\n\u001b[0m\u001b[1;32m     10\u001b[0m \u001b[0mprint\u001b[0m\u001b[0;34m(\u001b[0m\u001b[0mresults_inicial\u001b[0m\u001b[0;34m)\u001b[0m\u001b[0;34m\u001b[0m\u001b[0;34m\u001b[0m\u001b[0m\n\u001b[1;32m     11\u001b[0m \u001b[0mprint\u001b[0m\u001b[0;34m(\u001b[0m\u001b[0mresults\u001b[0m\u001b[0;34m)\u001b[0m\u001b[0;34m\u001b[0m\u001b[0;34m\u001b[0m\u001b[0m\n",
            "\u001b[0;32m<ipython-input-98-fab77b4f7604>\u001b[0m in \u001b[0;36mplot_all_fields\u001b[0;34m(results, nodes, elements, i)\u001b[0m\n\u001b[1;32m    109\u001b[0m     \u001b[0mcaso\u001b[0m \u001b[0;34m=\u001b[0m \u001b[0mtitulo\u001b[0m\u001b[0;34m\u001b[0m\u001b[0;34m\u001b[0m\u001b[0m\n\u001b[1;32m    110\u001b[0m     \u001b[0;32mfor\u001b[0m \u001b[0mfield\u001b[0m \u001b[0;32min\u001b[0m \u001b[0mfields\u001b[0m\u001b[0;34m:\u001b[0m\u001b[0;34m\u001b[0m\u001b[0;34m\u001b[0m\u001b[0m\n\u001b[0;32m--> 111\u001b[0;31m         \u001b[0melement_values\u001b[0m \u001b[0;34m=\u001b[0m \u001b[0;34m[\u001b[0m\u001b[0mres\u001b[0m\u001b[0;34m[\u001b[0m\u001b[0mfield\u001b[0m\u001b[0;34m]\u001b[0m \u001b[0;32mfor\u001b[0m \u001b[0mres\u001b[0m \u001b[0;32min\u001b[0m \u001b[0mresults\u001b[0m\u001b[0;34m]\u001b[0m\u001b[0;34m\u001b[0m\u001b[0;34m\u001b[0m\u001b[0m\n\u001b[0m\u001b[1;32m    112\u001b[0m         \u001b[0mnodal_values\u001b[0m \u001b[0;34m=\u001b[0m \u001b[0maverage_element_values_to_nodes\u001b[0m\u001b[0;34m(\u001b[0m\u001b[0mnodes\u001b[0m\u001b[0;34m,\u001b[0m \u001b[0melements\u001b[0m\u001b[0;34m,\u001b[0m \u001b[0melement_values\u001b[0m\u001b[0;34m)\u001b[0m\u001b[0;34m\u001b[0m\u001b[0;34m\u001b[0m\u001b[0m\n\u001b[1;32m    113\u001b[0m         \u001b[0mplot_scalar_field_on_mesh\u001b[0m\u001b[0;34m(\u001b[0m\u001b[0mnodes\u001b[0m\u001b[0;34m,\u001b[0m \u001b[0melements\u001b[0m\u001b[0;34m,\u001b[0m \u001b[0mnodal_values\u001b[0m\u001b[0;34m,\u001b[0m \u001b[0;34mf\"{caso} — {titles[field]}\"\u001b[0m\u001b[0;34m,\u001b[0m \u001b[0mfolder\u001b[0m\u001b[0;34m=\u001b[0m\u001b[0;34m\"Resultados\"\u001b[0m\u001b[0;34m)\u001b[0m\u001b[0;34m\u001b[0m\u001b[0;34m\u001b[0m\u001b[0m\n",
            "\u001b[0;31mTypeError\u001b[0m: 'int' object is not iterable"
          ]
        }
      ],
      "source": [
        "\n",
        "print(\"Volumen total inicial:\", V0)\n",
        "print(\"Veo que los elementos de la sección pegada a los apoyos tengan el nuevo espesor:\", elements[44].section.thickness)\n",
        "print(\"Volumen total después de la unificación:\", total_volume(elements))\n",
        "i=2\n",
        "#apply_distributed_force_especial(grupos, elements, 1500*kN)\n",
        "#u=solve(nodes, elements)\n",
        "#plot_deformed_shape(nodes, elements, u, i, scale=5, folder=\"Resultados\")\n",
        "#results = compute_stress_strain_components(elements, u)\n",
        "plot_all_fields(results, nodes, elements, i)\n",
        "print(results_inicial)\n",
        "print(results)\n",
        "\n",
        "\n"
      ]
    },
    {
      "cell_type": "code",
      "execution_count": null,
      "id": "7c00995b",
      "metadata": {
        "id": "7c00995b"
      },
      "outputs": [],
      "source": [
        "sigma1_inicial = np.array([res['σ1'] for res in results_inicial])\n",
        "sigma1_actual = np.array([res['σ1'] for res in results])\n",
        "# Diferencia absoluta\n",
        "max_sigma1_inicial = np.max(sigma1_inicial)\n",
        "max_sigma1_actual = np.max(sigma1_actual)\n",
        "\n",
        "# Comparación\n",
        "print(f\"Máximo σ1 inicial: {max_sigma1_inicial:.6f}\")\n",
        "print(f\"Máximo σ1 actual:  {max_sigma1_actual:.6f}\")\n",
        "\n",
        "if max_sigma1_actual > max_sigma1_inicial:\n",
        "    print(\"🔺 El máximo σ1 AUMENTÓ\")\n",
        "elif max_sigma1_actual < max_sigma1_inicial:\n",
        "    print(\"🔻 El máximo σ1 DISMINUYÓ\")\n",
        "else:\n",
        "    print(\"⚪ El máximo σ1 NO CAMBIÓ\")"
      ]
    },
    {
      "cell_type": "code",
      "execution_count": null,
      "id": "7832e30b",
      "metadata": {
        "id": "7832e30b"
      },
      "outputs": [],
      "source": [
        "for elem in elements:\n",
        "    print(f\"Elemento {elem.element_tag} - Espesor: {elem.section.thickness} mm\")"
      ]
    }
  ],
  "metadata": {
    "kernelspec": {
      "display_name": "Python 3",
      "language": "python",
      "name": "python3"
    },
    "language_info": {
      "codemirror_mode": {
        "name": "ipython",
        "version": 3
      },
      "file_extension": ".py",
      "mimetype": "text/x-python",
      "name": "python",
      "nbconvert_exporter": "python",
      "pygments_lexer": "ipython3",
      "version": "3.12.10"
    },
    "colab": {
      "provenance": []
    }
  },
  "nbformat": 4,
  "nbformat_minor": 5
}