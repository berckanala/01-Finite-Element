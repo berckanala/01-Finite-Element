{
 "cells": [
  {
   "cell_type": "code",
   "execution_count": 11,
   "id": "f881b4f5",
   "metadata": {},
   "outputs": [],
   "source": [
    "import numpy as np\n",
    "import matplotlib.pyplot as plt\n",
    "import gmsh\n",
    "import os\n",
    "import meshio\n",
    "import math\n",
    "import sys\n",
    "from matplotlib.patches import Polygon"
   ]
  },
  {
   "cell_type": "code",
   "execution_count": 12,
   "id": "38f6b173",
   "metadata": {},
   "outputs": [],
   "source": [
    "import gmsh\n",
    "\n",
    "geo_file = \"Pro_final_final.geo\"\n",
    "lc = 10\n",
    "\n",
    "gmsh.initialize()\n",
    "gmsh.open(geo_file)\n",
    "\n",
    "# Establecer tamaño de malla\n",
    "gmsh.option.setNumber(\"Mesh.CharacteristicLengthMin\", lc)\n",
    "gmsh.option.setNumber(\"Mesh.CharacteristicLengthMax\", lc)\n",
    "\n",
    "# Forzar el mallado con elementos cuadriláteros\n",
    "gmsh.option.setNumber(\"Mesh.RecombineAll\", 1)  # Recombinación a quads donde sea posible\n",
    "\n",
    "# Opcional: si tienes superficies físicas definidas\n",
    "gmsh.model.geo.synchronize()\n",
    "\n",
    "# Orden 1 = Quad4\n",
    "gmsh.model.mesh.setOrder(1)\n",
    "\n",
    "# Generar malla 2D (no uses `.generate(3)` si solo necesitas malla de superficie)\n",
    "gmsh.model.mesh.generate(3)\n",
    "\n",
    "# Guardar archivo\n",
    "gmsh.write(\"Proo.msh\")\n",
    "\n",
    "# Mostrar GUI (opcional)\n",
    "gmsh.fltk.run()\n",
    "gmsh.finalize()\n",
    "\n"
   ]
  }
 ],
 "metadata": {
  "kernelspec": {
   "display_name": "Python 3",
   "language": "python",
   "name": "python3"
  },
  "language_info": {
   "codemirror_mode": {
    "name": "ipython",
    "version": 3
   },
   "file_extension": ".py",
   "mimetype": "text/x-python",
   "name": "python",
   "nbconvert_exporter": "python",
   "pygments_lexer": "ipython3",
   "version": "3.12.5"
  }
 },
 "nbformat": 4,
 "nbformat_minor": 5
}
