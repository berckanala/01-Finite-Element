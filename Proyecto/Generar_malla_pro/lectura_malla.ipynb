{
 "cells": [
  {
   "cell_type": "code",
   "execution_count": 1,
   "id": "f881b4f5",
   "metadata": {},
   "outputs": [],
   "source": [
    "import numpy as np\n",
    "import matplotlib.pyplot as plt\n",
    "import gmsh\n",
    "import os\n",
    "import meshio\n",
    "import math\n",
    "import sys\n",
    "from matplotlib.patches import Polygon"
   ]
  },
  {
   "cell_type": "code",
   "execution_count": 14,
   "id": "38f6b173",
   "metadata": {},
   "outputs": [
    {
     "ename": "Exception",
     "evalue": "Invalid boundary mesh (overlapping facets) on surface 7020 surface 7020",
     "output_type": "error",
     "traceback": [
      "\u001b[31m---------------------------------------------------------------------------\u001b[39m",
      "\u001b[31mException\u001b[39m                                 Traceback (most recent call last)",
      "\u001b[32m~\\AppData\\Local\\Temp\\ipykernel_21308\\4008035440.py\u001b[39m in \u001b[36m?\u001b[39m\u001b[34m()\u001b[39m\n\u001b[32m     19\u001b[39m \u001b[38;5;66;03m# Orden 1 = Quad4\u001b[39;00m\n\u001b[32m     20\u001b[39m gmsh.model.mesh.setOrder(\u001b[32m1\u001b[39m)\n\u001b[32m     21\u001b[39m \n\u001b[32m     22\u001b[39m \u001b[38;5;66;03m# Generar malla 2D (no uses `.generate(3)` si solo necesitas malla de superficie)\u001b[39;00m\n\u001b[32m---> \u001b[39m\u001b[32m23\u001b[39m gmsh.model.mesh.generate(\u001b[32m3\u001b[39m)\n\u001b[32m     24\u001b[39m \n\u001b[32m     25\u001b[39m \u001b[38;5;66;03m# Guardar archivo\u001b[39;00m\n\u001b[32m     26\u001b[39m gmsh.write(\u001b[33m\"Pro_2.msh\"\u001b[39m)\n",
      "\u001b[32m~\\AppData\\Local\\Packages\\PythonSoftwareFoundation.Python.3.12_qbz5n2kfra8p0\\LocalCache\\local-packages\\Python312\\site-packages\\gmsh.py\u001b[39m in \u001b[36m?\u001b[39m\u001b[34m(dim)\u001b[39m\n\u001b[32m   2056\u001b[39m             lib.gmshModelMeshGenerate(\n\u001b[32m   2057\u001b[39m                 c_int(dim),\n\u001b[32m   2058\u001b[39m                 byref(ierr))\n\u001b[32m   2059\u001b[39m             \u001b[38;5;28;01mif\u001b[39;00m ierr.value != \u001b[32m0\u001b[39m:\n\u001b[32m-> \u001b[39m\u001b[32m2060\u001b[39m                 \u001b[38;5;28;01mraise\u001b[39;00m Exception(logger.getLastError())\n",
      "\u001b[31mException\u001b[39m: Invalid boundary mesh (overlapping facets) on surface 7020 surface 7020"
     ]
    }
   ],
   "source": [
    "import gmsh\n",
    "\n",
    "geo_file = \"Pro.geo\"\n",
    "lc = 25\n",
    "\n",
    "gmsh.initialize()\n",
    "gmsh.open(geo_file)\n",
    "\n",
    "# Establecer tamaño de malla\n",
    "gmsh.option.setNumber(\"Mesh.CharacteristicLengthMin\", lc)\n",
    "gmsh.option.setNumber(\"Mesh.CharacteristicLengthMax\", lc)\n",
    "\n",
    "# Forzar el mallado con elementos cuadriláteros\n",
    "gmsh.option.setNumber(\"Mesh.RecombineAll\", 1)  # Recombinación a quads donde sea posible\n",
    "\n",
    "# Opcional: si tienes superficies físicas definidas\n",
    "gmsh.model.geo.synchronize()\n",
    "\n",
    "# Orden 1 = Quad4\n",
    "gmsh.model.mesh.setOrder(1)\n",
    "\n",
    "# Generar malla 2D (no uses `.generate(3)` si solo necesitas malla de superficie)\n",
    "gmsh.model.mesh.generate(3)\n",
    "\n",
    "# Guardar archivo\n",
    "gmsh.write(\"Pro_2.msh\")\n",
    "\n",
    "# Mostrar GUI (opcional)\n",
    "gmsh.fltk.run()\n",
    "gmsh.finalize()\n",
    "\n"
   ]
  }
 ],
 "metadata": {
  "kernelspec": {
   "display_name": "Python 3",
   "language": "python",
   "name": "python3"
  },
  "language_info": {
   "codemirror_mode": {
    "name": "ipython",
    "version": 3
   },
   "file_extension": ".py",
   "mimetype": "text/x-python",
   "name": "python",
   "nbconvert_exporter": "python",
   "pygments_lexer": "ipython3",
   "version": "3.12.10"
  }
 },
 "nbformat": 4,
 "nbformat_minor": 5
}
