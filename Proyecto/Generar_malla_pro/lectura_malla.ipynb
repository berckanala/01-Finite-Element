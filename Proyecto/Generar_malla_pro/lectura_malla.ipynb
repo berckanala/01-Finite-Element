{
 "cells": [
  {
   "cell_type": "code",
   "execution_count": 1,
   "id": "f881b4f5",
   "metadata": {},
   "outputs": [],
   "source": [
    "import numpy as np\n",
    "import matplotlib.pyplot as plt\n",
    "import gmsh\n",
    "import os\n",
    "import meshio\n",
    "import math\n",
    "import sys\n",
    "from matplotlib.patches import Polygon"
   ]
  },
  {
   "cell_type": "code",
   "execution_count": 2,
   "id": "38f6b173",
   "metadata": {},
   "outputs": [],
   "source": [
    "\n",
    "geo_file = \"prueba_2.geo\"\n",
    "gmsh.initialize()\n",
    "gmsh.open(geo_file)\n",
    "lc = 1\n",
    "gmsh.option.setNumber(\"Mesh.CharacteristicLengthMin\", lc)\n",
    "gmsh.option.setNumber(\"Mesh.CharacteristicLengthMax\", lc)\n",
    "\n",
    "gmsh.model.geo.synchronize()\n",
    "gmsh.model.mesh.setOrder(1)  # <-- Quad4\n",
    "gmsh.model.mesh.generate(2)\n",
    "gmsh.write(\"prueba_2.msh\")\n",
    "gmsh.fltk.run()\n",
    "gmsh.finalize()\n"
   ]
  }
 ],
 "metadata": {
  "kernelspec": {
   "display_name": "Python 3",
   "language": "python",
   "name": "python3"
  },
  "language_info": {
   "codemirror_mode": {
    "name": "ipython",
    "version": 3
   },
   "file_extension": ".py",
   "mimetype": "text/x-python",
   "name": "python",
   "nbconvert_exporter": "python",
   "pygments_lexer": "ipython3",
   "version": "3.12.10"
  }
 },
 "nbformat": 4,
 "nbformat_minor": 5
}
