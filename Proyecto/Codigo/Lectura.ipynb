{
 "cells": [
  {
   "cell_type": "code",
   "execution_count": 1,
   "id": "43d8af40",
   "metadata": {},
   "outputs": [
    {
     "name": "stdout",
     "output_type": "stream",
     "text": [
      "\n"
     ]
    }
   ],
   "source": [
    "import openseespy.opensees as ops\n",
    "import meshio\n",
    "import numpy as np\n",
    "\n",
    "# Leer malla .msh\n",
    "mesh = meshio.read(\"Pro_malla.msh\")\n",
    "\n",
    "# Extraer nodos y tetraedros\n",
    "nodes = mesh.points\n",
    "tets = [cell.data for cell in mesh.cells if cell.type == \"tetra\"][0]\n",
    "\n",
    "# Iniciar modelo 3D\n",
    "ops.wipe()\n",
    "ops.model(\"BasicBuilder\", \"-ndm\", 3, \"-ndf\", 3)\n",
    "\n",
    "# Crear nodos\n",
    "for i, coord in enumerate(nodes):\n",
    "    ops.node(i + 1, *coord[:3])  # OpenSees indexa desde 1\n",
    "\n",
    "# Crear material\n",
    "# Fuente típica PLA: E ≈ 3.5 GPa, ν ≈ 0.36, densidad ≈ 1250 kg/m³\n",
    "ops.nDMaterial(\"ElasticIsotropic\", 1, 3.5e9, 0.36, 1250)\n",
    "\n",
    "\n",
    "# Revisar primeros elementos para verificar conectividad\n",
    "# Crear elementos tetraédricos\n",
    "for i, conn in enumerate(tets):\n",
    "    if len(conn) != 4 or len(set(conn)) != 4:\n",
    "        print(f\"❌ Elemento inválido {i}: {conn}\")\n",
    "        continue\n",
    "    node_ids = [int(nid + 1) for nid in conn]  # 🔧 conversión a int puro\n",
    "    ops.element(\"FourNodeTetrahedron\", i + 1, *node_ids, 1)\n"
   ]
  }
 ],
 "metadata": {
  "kernelspec": {
   "display_name": "Python 3",
   "language": "python",
   "name": "python3"
  },
  "language_info": {
   "codemirror_mode": {
    "name": "ipython",
    "version": 3
   },
   "file_extension": ".py",
   "mimetype": "text/x-python",
   "name": "python",
   "nbconvert_exporter": "python",
   "pygments_lexer": "ipython3",
   "version": "3.12.10"
  }
 },
 "nbformat": 4,
 "nbformat_minor": 5
}
