{
 "cells": [
  {
   "cell_type": "code",
   "execution_count": 8,
   "id": "924f831a",
   "metadata": {},
   "outputs": [
    {
     "name": "stdout",
     "output_type": "stream",
     "text": [
      "\n",
      "Revisando primeros elementos tetraédricos:\n",
      "Elemento 0: [111 224 158 293], únicos: {np.int64(224), np.int64(293), np.int64(158), np.int64(111)}\n",
      "Elemento 1: [225 135 105 294], únicos: {np.int64(294), np.int64(225), np.int64(105), np.int64(135)}\n",
      "Elemento 2: [111 158 291 293], únicos: {np.int64(291), np.int64(293), np.int64(158), np.int64(111)}\n",
      "Elemento 3: [105 135 288 294], únicos: {np.int64(288), np.int64(105), np.int64(294), np.int64(135)}\n",
      "Elemento 4: [144 300 235 308], únicos: {np.int64(144), np.int64(235), np.int64(300), np.int64(308)}\n",
      "Elemento 5: [127 298 195 311], únicos: {np.int64(298), np.int64(195), np.int64(311), np.int64(127)}\n",
      "Elemento 6: [127 244 298 311], únicos: {np.int64(298), np.int64(244), np.int64(311), np.int64(127)}\n",
      "Elemento 7: [138 295 229 310], únicos: {np.int64(138), np.int64(229), np.int64(310), np.int64(295)}\n",
      "Elemento 8: [256 297 117 309], únicos: {np.int64(256), np.int64(297), np.int64(309), np.int64(117)}\n",
      "Elemento 9: [144 178 300 308], únicos: {np.int64(144), np.int64(178), np.int64(300), np.int64(308)}\n"
     ]
    },
    {
     "name": "stderr",
     "output_type": "stream",
     "text": [
      "WARNING: invalid integer data\n"
     ]
    },
    {
     "ename": "OpenSeesError",
     "evalue": "See stderr output",
     "output_type": "error",
     "traceback": [
      "\u001b[31m---------------------------------------------------------------------------\u001b[39m",
      "\u001b[31mOpenSeesError\u001b[39m                             Traceback (most recent call last)",
      "\u001b[36mCell\u001b[39m\u001b[36m \u001b[39m\u001b[32mIn[8]\u001b[39m\u001b[32m, line 32\u001b[39m\n\u001b[32m     30\u001b[39m     \u001b[38;5;28;01mcontinue\u001b[39;00m\n\u001b[32m     31\u001b[39m node_ids = [nid + \u001b[32m1\u001b[39m \u001b[38;5;28;01mfor\u001b[39;00m nid \u001b[38;5;129;01min\u001b[39;00m conn]\n\u001b[32m---> \u001b[39m\u001b[32m32\u001b[39m \u001b[43mops\u001b[49m\u001b[43m.\u001b[49m\u001b[43melement\u001b[49m\u001b[43m(\u001b[49m\u001b[33;43m\"\u001b[39;49m\u001b[33;43mFourNodeTetrahedron\u001b[39;49m\u001b[33;43m\"\u001b[39;49m\u001b[43m,\u001b[49m\u001b[43m \u001b[49m\u001b[43mi\u001b[49m\u001b[43m \u001b[49m\u001b[43m+\u001b[49m\u001b[43m \u001b[49m\u001b[32;43m1\u001b[39;49m\u001b[43m,\u001b[49m\u001b[43m \u001b[49m\u001b[43m*\u001b[49m\u001b[43mnode_ids\u001b[49m\u001b[43m,\u001b[49m\u001b[43m \u001b[49m\u001b[32;43m1\u001b[39;49m\u001b[43m)\u001b[49m\n",
      "\u001b[31mOpenSeesError\u001b[39m: See stderr output"
     ]
    }
   ],
   "source": [
    "import openseespy.opensees as ops\n",
    "import meshio\n",
    "import numpy as np\n",
    "\n",
    "# Leer malla .msh\n",
    "mesh = meshio.read(\"prueba.msh\")\n",
    "\n",
    "# Extraer nodos y tetraedros\n",
    "nodes = mesh.points\n",
    "tets = [cell.data for cell in mesh.cells if cell.type == \"tetra\"][0]\n",
    "\n",
    "# Iniciar modelo 3D\n",
    "ops.wipe()\n",
    "ops.model(\"BasicBuilder\", \"-ndm\", 3, \"-ndf\", 3)\n",
    "\n",
    "# Crear nodos\n",
    "for i, coord in enumerate(nodes):\n",
    "    ops.node(i + 1, *coord[:3])  # OpenSees indexa desde 1\n",
    "\n",
    "# Crear material\n",
    "ops.nDMaterial(\"ElasticIsotropic\", 1, 2.1e11, 0.3, 7850)\n",
    "print(\"Revisando primeros elementos tetraédricos:\")\n",
    "for i, conn in enumerate(tets[:10]):\n",
    "    print(f\"Elemento {i}: {conn}, únicos: {set(conn)}\")\n",
    "\n",
    "# Crear elementos tetraédricos\n",
    "for i, conn in enumerate(tets):\n",
    "    if len(conn) != 4 or len(set(conn)) != 4:\n",
    "        print(f\"❌ Elemento inválido {i}: {conn}\")\n",
    "        continue\n",
    "    node_ids = [nid + 1 for nid in conn]\n",
    "    ops.element(\"FourNodeTetrahedron\", i + 1, *node_ids, 1)\n"
   ]
  }
 ],
 "metadata": {
  "kernelspec": {
   "display_name": "Python 3",
   "language": "python",
   "name": "python3"
  },
  "language_info": {
   "codemirror_mode": {
    "name": "ipython",
    "version": 3
   },
   "file_extension": ".py",
   "mimetype": "text/x-python",
   "name": "python",
   "nbconvert_exporter": "python",
   "pygments_lexer": "ipython3",
   "version": "3.12.10"
  }
 },
 "nbformat": 4,
 "nbformat_minor": 5
}
